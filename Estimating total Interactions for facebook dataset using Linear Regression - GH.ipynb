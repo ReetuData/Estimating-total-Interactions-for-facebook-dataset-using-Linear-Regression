{
 "cells": [
  {
   "cell_type": "markdown",
   "metadata": {
    "colab_type": "text",
    "id": "3FvWuhfAvYjq"
   },
   "source": [
    "# Estimating total Interactions for facebook dataset"
   ]
  },
  {
   "cell_type": "code",
   "execution_count": 0,
   "metadata": {
    "colab": {},
    "colab_type": "code",
    "id": "wlOdeqG3vYjx"
   },
   "outputs": [],
   "source": [
    "import pandas as pd\n",
    "import numpy as np\n",
    "import matplotlib.pyplot as plt\n",
    "import seaborn as sns\n",
    "%matplotlib inline\n",
    "\n",
    "import warnings\n",
    "warnings.filterwarnings(action=\"ignore\", module=\"scipy\", message=\"^internal gelsd\")\n"
   ]
  },
  {
   "cell_type": "markdown",
   "metadata": {
    "colab_type": "text",
    "id": "KDLJZGOCvYj4"
   },
   "source": [
    "### Regression"
   ]
  },
  {
   "cell_type": "code",
   "execution_count": 0,
   "metadata": {
    "colab": {},
    "colab_type": "code",
    "id": "zXPryZGGvYj5",
    "outputId": "27ec1a0f-3426-4bd6-a2b3-ab4c058a6a97"
   },
   "outputs": [
    {
     "data": {
      "text/html": [
       "<div>\n",
       "<style scoped>\n",
       "    .dataframe tbody tr th:only-of-type {\n",
       "        vertical-align: middle;\n",
       "    }\n",
       "\n",
       "    .dataframe tbody tr th {\n",
       "        vertical-align: top;\n",
       "    }\n",
       "\n",
       "    .dataframe thead th {\n",
       "        text-align: right;\n",
       "    }\n",
       "</style>\n",
       "<table border=\"1\" class=\"dataframe\">\n",
       "  <thead>\n",
       "    <tr style=\"text-align: right;\">\n",
       "      <th></th>\n",
       "      <th>Unnamed: 0</th>\n",
       "      <th>sqft_living</th>\n",
       "      <th>price</th>\n",
       "    </tr>\n",
       "  </thead>\n",
       "  <tbody>\n",
       "    <tr>\n",
       "      <th>0</th>\n",
       "      <td>0</td>\n",
       "      <td>1180</td>\n",
       "      <td>221900.0</td>\n",
       "    </tr>\n",
       "    <tr>\n",
       "      <th>1</th>\n",
       "      <td>1</td>\n",
       "      <td>2570</td>\n",
       "      <td>538000.0</td>\n",
       "    </tr>\n",
       "    <tr>\n",
       "      <th>2</th>\n",
       "      <td>2</td>\n",
       "      <td>770</td>\n",
       "      <td>180000.0</td>\n",
       "    </tr>\n",
       "    <tr>\n",
       "      <th>3</th>\n",
       "      <td>3</td>\n",
       "      <td>1960</td>\n",
       "      <td>604000.0</td>\n",
       "    </tr>\n",
       "    <tr>\n",
       "      <th>4</th>\n",
       "      <td>4</td>\n",
       "      <td>1680</td>\n",
       "      <td>510000.0</td>\n",
       "    </tr>\n",
       "  </tbody>\n",
       "</table>\n",
       "</div>"
      ],
      "text/plain": [
       "   Unnamed: 0  sqft_living     price\n",
       "0           0         1180  221900.0\n",
       "1           1         2570  538000.0\n",
       "2           2          770  180000.0\n",
       "3           3         1960  604000.0\n",
       "4           4         1680  510000.0"
      ]
     },
     "execution_count": 25,
     "metadata": {
      "tags": []
     },
     "output_type": "execute_result"
    }
   ],
   "source": [
    "df = pd.read_csv('House_data_LR.csv')\n",
    "df.head()"
   ]
  },
  {
   "cell_type": "code",
   "execution_count": 0,
   "metadata": {
    "colab": {},
    "colab_type": "code",
    "id": "stMu6Y9nvYkB",
    "outputId": "ccefaf98-a609-4663-9bbe-7e2bf4a0e775"
   },
   "outputs": [
    {
     "data": {
      "text/plain": [
       "Unnamed: 0     False\n",
       "sqft_living    False\n",
       "price          False\n",
       "dtype: bool"
      ]
     },
     "execution_count": 26,
     "metadata": {
      "tags": []
     },
     "output_type": "execute_result"
    }
   ],
   "source": [
    "df.isnull().any() "
   ]
  },
  {
   "cell_type": "code",
   "execution_count": 0,
   "metadata": {
    "colab": {},
    "colab_type": "code",
    "id": "6IGQc74hvYkF"
   },
   "outputs": [],
   "source": [
    "df.drop('Unnamed: 0', axis = 1, inplace = True)\n"
   ]
  },
  {
   "cell_type": "code",
   "execution_count": 0,
   "metadata": {
    "colab": {},
    "colab_type": "code",
    "id": "5Y5MeuXDvYkI",
    "outputId": "848c8b2d-d02c-47d8-a361-e90bc69b1051"
   },
   "outputs": [
    {
     "data": {
      "text/html": [
       "<div>\n",
       "<style scoped>\n",
       "    .dataframe tbody tr th:only-of-type {\n",
       "        vertical-align: middle;\n",
       "    }\n",
       "\n",
       "    .dataframe tbody tr th {\n",
       "        vertical-align: top;\n",
       "    }\n",
       "\n",
       "    .dataframe thead th {\n",
       "        text-align: right;\n",
       "    }\n",
       "</style>\n",
       "<table border=\"1\" class=\"dataframe\">\n",
       "  <thead>\n",
       "    <tr style=\"text-align: right;\">\n",
       "      <th></th>\n",
       "      <th>sqft_living</th>\n",
       "      <th>price</th>\n",
       "    </tr>\n",
       "  </thead>\n",
       "  <tbody>\n",
       "    <tr>\n",
       "      <th>0</th>\n",
       "      <td>1180</td>\n",
       "      <td>221900.0</td>\n",
       "    </tr>\n",
       "    <tr>\n",
       "      <th>1</th>\n",
       "      <td>2570</td>\n",
       "      <td>538000.0</td>\n",
       "    </tr>\n",
       "    <tr>\n",
       "      <th>2</th>\n",
       "      <td>770</td>\n",
       "      <td>180000.0</td>\n",
       "    </tr>\n",
       "    <tr>\n",
       "      <th>3</th>\n",
       "      <td>1960</td>\n",
       "      <td>604000.0</td>\n",
       "    </tr>\n",
       "    <tr>\n",
       "      <th>4</th>\n",
       "      <td>1680</td>\n",
       "      <td>510000.0</td>\n",
       "    </tr>\n",
       "    <tr>\n",
       "      <th>5</th>\n",
       "      <td>5420</td>\n",
       "      <td>1225000.0</td>\n",
       "    </tr>\n",
       "    <tr>\n",
       "      <th>6</th>\n",
       "      <td>1715</td>\n",
       "      <td>257500.0</td>\n",
       "    </tr>\n",
       "    <tr>\n",
       "      <th>7</th>\n",
       "      <td>1060</td>\n",
       "      <td>291850.0</td>\n",
       "    </tr>\n",
       "    <tr>\n",
       "      <th>8</th>\n",
       "      <td>1780</td>\n",
       "      <td>229500.0</td>\n",
       "    </tr>\n",
       "    <tr>\n",
       "      <th>9</th>\n",
       "      <td>1890</td>\n",
       "      <td>323000.0</td>\n",
       "    </tr>\n",
       "    <tr>\n",
       "      <th>10</th>\n",
       "      <td>3560</td>\n",
       "      <td>662500.0</td>\n",
       "    </tr>\n",
       "    <tr>\n",
       "      <th>11</th>\n",
       "      <td>1160</td>\n",
       "      <td>468000.0</td>\n",
       "    </tr>\n",
       "    <tr>\n",
       "      <th>12</th>\n",
       "      <td>1430</td>\n",
       "      <td>310000.0</td>\n",
       "    </tr>\n",
       "    <tr>\n",
       "      <th>13</th>\n",
       "      <td>1370</td>\n",
       "      <td>400000.0</td>\n",
       "    </tr>\n",
       "    <tr>\n",
       "      <th>14</th>\n",
       "      <td>1810</td>\n",
       "      <td>530000.0</td>\n",
       "    </tr>\n",
       "    <tr>\n",
       "      <th>15</th>\n",
       "      <td>2950</td>\n",
       "      <td>650000.0</td>\n",
       "    </tr>\n",
       "    <tr>\n",
       "      <th>16</th>\n",
       "      <td>1890</td>\n",
       "      <td>395000.0</td>\n",
       "    </tr>\n",
       "    <tr>\n",
       "      <th>17</th>\n",
       "      <td>1600</td>\n",
       "      <td>485000.0</td>\n",
       "    </tr>\n",
       "    <tr>\n",
       "      <th>18</th>\n",
       "      <td>1200</td>\n",
       "      <td>189000.0</td>\n",
       "    </tr>\n",
       "    <tr>\n",
       "      <th>19</th>\n",
       "      <td>1250</td>\n",
       "      <td>230000.0</td>\n",
       "    </tr>\n",
       "    <tr>\n",
       "      <th>20</th>\n",
       "      <td>1620</td>\n",
       "      <td>385000.0</td>\n",
       "    </tr>\n",
       "    <tr>\n",
       "      <th>21</th>\n",
       "      <td>3050</td>\n",
       "      <td>2000000.0</td>\n",
       "    </tr>\n",
       "    <tr>\n",
       "      <th>22</th>\n",
       "      <td>2270</td>\n",
       "      <td>285000.0</td>\n",
       "    </tr>\n",
       "    <tr>\n",
       "      <th>23</th>\n",
       "      <td>1070</td>\n",
       "      <td>252700.0</td>\n",
       "    </tr>\n",
       "    <tr>\n",
       "      <th>24</th>\n",
       "      <td>2450</td>\n",
       "      <td>329000.0</td>\n",
       "    </tr>\n",
       "    <tr>\n",
       "      <th>25</th>\n",
       "      <td>1710</td>\n",
       "      <td>233000.0</td>\n",
       "    </tr>\n",
       "    <tr>\n",
       "      <th>26</th>\n",
       "      <td>2450</td>\n",
       "      <td>937000.0</td>\n",
       "    </tr>\n",
       "    <tr>\n",
       "      <th>27</th>\n",
       "      <td>1400</td>\n",
       "      <td>667000.0</td>\n",
       "    </tr>\n",
       "    <tr>\n",
       "      <th>28</th>\n",
       "      <td>1520</td>\n",
       "      <td>438000.0</td>\n",
       "    </tr>\n",
       "    <tr>\n",
       "      <th>29</th>\n",
       "      <td>2570</td>\n",
       "      <td>719000.0</td>\n",
       "    </tr>\n",
       "    <tr>\n",
       "      <th>...</th>\n",
       "      <td>...</td>\n",
       "      <td>...</td>\n",
       "    </tr>\n",
       "    <tr>\n",
       "      <th>21583</th>\n",
       "      <td>710</td>\n",
       "      <td>399950.0</td>\n",
       "    </tr>\n",
       "    <tr>\n",
       "      <th>21584</th>\n",
       "      <td>1260</td>\n",
       "      <td>380000.0</td>\n",
       "    </tr>\n",
       "    <tr>\n",
       "      <th>21585</th>\n",
       "      <td>1870</td>\n",
       "      <td>270000.0</td>\n",
       "    </tr>\n",
       "    <tr>\n",
       "      <th>21586</th>\n",
       "      <td>1430</td>\n",
       "      <td>505000.0</td>\n",
       "    </tr>\n",
       "    <tr>\n",
       "      <th>21587</th>\n",
       "      <td>1520</td>\n",
       "      <td>385000.0</td>\n",
       "    </tr>\n",
       "    <tr>\n",
       "      <th>21588</th>\n",
       "      <td>1210</td>\n",
       "      <td>414500.0</td>\n",
       "    </tr>\n",
       "    <tr>\n",
       "      <th>21589</th>\n",
       "      <td>2540</td>\n",
       "      <td>347500.0</td>\n",
       "    </tr>\n",
       "    <tr>\n",
       "      <th>21590</th>\n",
       "      <td>4910</td>\n",
       "      <td>1222500.0</td>\n",
       "    </tr>\n",
       "    <tr>\n",
       "      <th>21591</th>\n",
       "      <td>2770</td>\n",
       "      <td>572000.0</td>\n",
       "    </tr>\n",
       "    <tr>\n",
       "      <th>21592</th>\n",
       "      <td>1190</td>\n",
       "      <td>475000.0</td>\n",
       "    </tr>\n",
       "    <tr>\n",
       "      <th>21593</th>\n",
       "      <td>4170</td>\n",
       "      <td>1088000.0</td>\n",
       "    </tr>\n",
       "    <tr>\n",
       "      <th>21594</th>\n",
       "      <td>2500</td>\n",
       "      <td>350000.0</td>\n",
       "    </tr>\n",
       "    <tr>\n",
       "      <th>21595</th>\n",
       "      <td>1530</td>\n",
       "      <td>520000.0</td>\n",
       "    </tr>\n",
       "    <tr>\n",
       "      <th>21596</th>\n",
       "      <td>3600</td>\n",
       "      <td>679950.0</td>\n",
       "    </tr>\n",
       "    <tr>\n",
       "      <th>21597</th>\n",
       "      <td>3410</td>\n",
       "      <td>1575000.0</td>\n",
       "    </tr>\n",
       "    <tr>\n",
       "      <th>21598</th>\n",
       "      <td>3118</td>\n",
       "      <td>541800.0</td>\n",
       "    </tr>\n",
       "    <tr>\n",
       "      <th>21599</th>\n",
       "      <td>3990</td>\n",
       "      <td>810000.0</td>\n",
       "    </tr>\n",
       "    <tr>\n",
       "      <th>21600</th>\n",
       "      <td>4470</td>\n",
       "      <td>1537000.0</td>\n",
       "    </tr>\n",
       "    <tr>\n",
       "      <th>21601</th>\n",
       "      <td>1425</td>\n",
       "      <td>467000.0</td>\n",
       "    </tr>\n",
       "    <tr>\n",
       "      <th>21602</th>\n",
       "      <td>1500</td>\n",
       "      <td>224000.0</td>\n",
       "    </tr>\n",
       "    <tr>\n",
       "      <th>21603</th>\n",
       "      <td>2270</td>\n",
       "      <td>507250.0</td>\n",
       "    </tr>\n",
       "    <tr>\n",
       "      <th>21604</th>\n",
       "      <td>1490</td>\n",
       "      <td>429000.0</td>\n",
       "    </tr>\n",
       "    <tr>\n",
       "      <th>21605</th>\n",
       "      <td>2520</td>\n",
       "      <td>610685.0</td>\n",
       "    </tr>\n",
       "    <tr>\n",
       "      <th>21606</th>\n",
       "      <td>3510</td>\n",
       "      <td>1007500.0</td>\n",
       "    </tr>\n",
       "    <tr>\n",
       "      <th>21607</th>\n",
       "      <td>1310</td>\n",
       "      <td>475000.0</td>\n",
       "    </tr>\n",
       "    <tr>\n",
       "      <th>21608</th>\n",
       "      <td>1530</td>\n",
       "      <td>360000.0</td>\n",
       "    </tr>\n",
       "    <tr>\n",
       "      <th>21609</th>\n",
       "      <td>2310</td>\n",
       "      <td>400000.0</td>\n",
       "    </tr>\n",
       "    <tr>\n",
       "      <th>21610</th>\n",
       "      <td>1020</td>\n",
       "      <td>402101.0</td>\n",
       "    </tr>\n",
       "    <tr>\n",
       "      <th>21611</th>\n",
       "      <td>1600</td>\n",
       "      <td>400000.0</td>\n",
       "    </tr>\n",
       "    <tr>\n",
       "      <th>21612</th>\n",
       "      <td>1020</td>\n",
       "      <td>325000.0</td>\n",
       "    </tr>\n",
       "  </tbody>\n",
       "</table>\n",
       "<p>21613 rows × 2 columns</p>\n",
       "</div>"
      ],
      "text/plain": [
       "       sqft_living      price\n",
       "0             1180   221900.0\n",
       "1             2570   538000.0\n",
       "2              770   180000.0\n",
       "3             1960   604000.0\n",
       "4             1680   510000.0\n",
       "5             5420  1225000.0\n",
       "6             1715   257500.0\n",
       "7             1060   291850.0\n",
       "8             1780   229500.0\n",
       "9             1890   323000.0\n",
       "10            3560   662500.0\n",
       "11            1160   468000.0\n",
       "12            1430   310000.0\n",
       "13            1370   400000.0\n",
       "14            1810   530000.0\n",
       "15            2950   650000.0\n",
       "16            1890   395000.0\n",
       "17            1600   485000.0\n",
       "18            1200   189000.0\n",
       "19            1250   230000.0\n",
       "20            1620   385000.0\n",
       "21            3050  2000000.0\n",
       "22            2270   285000.0\n",
       "23            1070   252700.0\n",
       "24            2450   329000.0\n",
       "25            1710   233000.0\n",
       "26            2450   937000.0\n",
       "27            1400   667000.0\n",
       "28            1520   438000.0\n",
       "29            2570   719000.0\n",
       "...            ...        ...\n",
       "21583          710   399950.0\n",
       "21584         1260   380000.0\n",
       "21585         1870   270000.0\n",
       "21586         1430   505000.0\n",
       "21587         1520   385000.0\n",
       "21588         1210   414500.0\n",
       "21589         2540   347500.0\n",
       "21590         4910  1222500.0\n",
       "21591         2770   572000.0\n",
       "21592         1190   475000.0\n",
       "21593         4170  1088000.0\n",
       "21594         2500   350000.0\n",
       "21595         1530   520000.0\n",
       "21596         3600   679950.0\n",
       "21597         3410  1575000.0\n",
       "21598         3118   541800.0\n",
       "21599         3990   810000.0\n",
       "21600         4470  1537000.0\n",
       "21601         1425   467000.0\n",
       "21602         1500   224000.0\n",
       "21603         2270   507250.0\n",
       "21604         1490   429000.0\n",
       "21605         2520   610685.0\n",
       "21606         3510  1007500.0\n",
       "21607         1310   475000.0\n",
       "21608         1530   360000.0\n",
       "21609         2310   400000.0\n",
       "21610         1020   402101.0\n",
       "21611         1600   400000.0\n",
       "21612         1020   325000.0\n",
       "\n",
       "[21613 rows x 2 columns]"
      ]
     },
     "execution_count": 28,
     "metadata": {
      "tags": []
     },
     "output_type": "execute_result"
    }
   ],
   "source": [
    "df"
   ]
  },
  {
   "cell_type": "code",
   "execution_count": 0,
   "metadata": {
    "colab": {},
    "colab_type": "code",
    "id": "XtLMFEBvvYkL",
    "outputId": "664802cd-bbd7-4ad7-d8f8-660a83fb85fc"
   },
   "outputs": [
    {
     "data": {
      "text/plain": [
       "array([221900., 538000., 180000., ..., 402101., 400000., 325000.])"
      ]
     },
     "execution_count": 31,
     "metadata": {
      "tags": []
     },
     "output_type": "execute_result"
    }
   ],
   "source": [
    "X = df.iloc[:, :1].values # to get X as 2D\n",
    "y = df.iloc[:, -1].values\n",
    "y"
   ]
  },
  {
   "cell_type": "markdown",
   "metadata": {
    "colab_type": "text",
    "id": "SA8IUjKovYkO"
   },
   "source": [
    "### Split data into train and test\n",
    "\n",
    "http://scikit-learn.org/stable/modules/generated/sklearn.model_selection.train_test_split.html"
   ]
  },
  {
   "cell_type": "code",
   "execution_count": 0,
   "metadata": {
    "colab": {},
    "colab_type": "code",
    "id": "X2L-iGWZvYkP"
   },
   "outputs": [],
   "source": [
    "from sklearn.model_selection import train_test_split\n",
    "X_train, X_test, y_train, y_test = train_test_split(X, y, test_size = 0.2, random_state = 0)\n"
   ]
  },
  {
   "cell_type": "markdown",
   "metadata": {
    "colab_type": "text",
    "id": "Dor0QXhUvYkS"
   },
   "source": [
    "### Simple Linear Regression\n",
    "\n",
    "    y = b0 + b1 * x1 \n",
    "    \n",
    "    y - dependent variable\n",
    "    x - independent variable\n",
    "    b0 - constant\n",
    "    b1 - coefficient\n",
    "\n",
    "http://scikit-learn.org/stable/modules/generated/sklearn.linear_model.LinearRegression.html"
   ]
  },
  {
   "cell_type": "code",
   "execution_count": 0,
   "metadata": {
    "colab": {},
    "colab_type": "code",
    "id": "zn-Id6SnvYkT",
    "outputId": "34ce18c5-b07d-4dbd-9e7c-d9011cd0050c"
   },
   "outputs": [
    {
     "data": {
      "image/png": "[encoded data removed]",
      "text/plain": [
       "<Figure size 432x288 with 1 Axes>"
      ]
     },
     "metadata": {
      "tags": []
     },
     "output_type": "display_data"
    },
    {
     "data": {
      "text/plain": [
       "Text(0,0.5,'House Price')"
      ]
     },
     "execution_count": 33,
     "metadata": {
      "tags": []
     },
     "output_type": "execute_result"
    },
    {
     "data": {
      "image/png": "[encoded data removed]",
      "text/plain": [
       "<Figure size 432x288 with 1 Axes>"
      ]
     },
     "metadata": {
      "tags": []
     },
     "output_type": "display_data"
    }
   ],
   "source": [
    "from sklearn.linear_model import LinearRegression\n",
    "lr = LinearRegression()\n",
    "lr.fit(X_train, y_train)\n",
    "\n",
    "#predict the test set results\n",
    "y_pred = lr.predict(X_test)\n",
    "\n",
    "# Training set\n",
    "plt.scatter(X_train, y_train, color = 'r')\n",
    "plt.plot(X_train, lr.predict(X_train), color = 'b')\n",
    "plt.title('Sqft Living vs Price (Train)')\n",
    "plt.xlabel('Sqft Living')\n",
    "plt.ylabel('House Price')\n",
    "plt.show()\n",
    "\n",
    "# Test set\n",
    "plt.scatter(X_test, y_test, color = 'r')\n",
    "plt.plot(X_train, lr.predict(X_train), color = 'b')\n",
    "plt.title('Sqft Living vs Price (Test)')\n",
    "plt.xlabel('Sqft Living')\n",
    "plt.ylabel('House Price')\n"
   ]
  },
  {
   "cell_type": "code",
   "execution_count": 0,
   "metadata": {
    "colab": {},
    "colab_type": "code",
    "id": "p1sGmSdgvYkW",
    "outputId": "a6c8b892-513f-4504-bb85-6974d961f994",
    "scrolled": true
   },
   "outputs": [
    {
     "data": {
      "text/plain": [
       "(248879.06124185046,\n",
       " 0.4791577237265374,\n",
       " 0.47913362293174433,\n",
       " array([283.96855716]),\n",
       " -48257.063591028564)"
      ]
     },
     "execution_count": 12,
     "metadata": {
      "tags": []
     },
     "output_type": "execute_result"
    }
   ],
   "source": [
    "# http://scikit-learn.org/stable/modules/generated/sklearn.metrics.mean_squared_error.html\n",
    "\n",
    "from sklearn.metrics import mean_squared_error\n",
    "from math import sqrt\n",
    "\n",
    "rmse = sqrt(mean_squared_error(y_test, y_pred))\n",
    "\n",
    "# http://scikit-learn.org/stable/modules/generated/sklearn.metrics.r2_score.html\n",
    "    \n",
    "from sklearn.metrics import r2_score\n",
    "r2 = r2_score(y_test, y_pred)\n",
    "\n",
    "adj_r2 = 1 - float(len(y)-1)/(len(y)-len(lr.coef_)-1)*(1 - r2)\n",
    "\n",
    "rmse, r2, adj_r2,  lr.coef_, lr.intercept_"
   ]
  },
  {
   "cell_type": "code",
   "execution_count": 0,
   "metadata": {
    "colab": {},
    "colab_type": "code",
    "id": "9OSyJhiSvYkZ",
    "outputId": "7d9f40b4-40b0-4808-bb70-0c29daf20244"
   },
   "outputs": [
    {
     "data": {
      "text/plain": [
       "array([292505.20499513])"
      ]
     },
     "execution_count": 13,
     "metadata": {
      "tags": []
     },
     "output_type": "execute_result"
    }
   ],
   "source": [
    "import numpy as np\n",
    "x_new=np.array([1200]).reshape(1,1)\n",
    "lr.predict(x_new)"
   ]
  },
  {
   "cell_type": "markdown",
   "metadata": {
    "colab_type": "text",
    "id": "2--aWggpvYkc"
   },
   "source": [
    "### Multiple Linear Regression\n",
    "\n",
    "    y = b0 + (b1 * x1) + (b2 * x2) + (b3 * x3)\n",
    "    \n",
    "    y - dependent variable\n",
    "    x1, x2, x3 - independent variables\n",
    "    b0 - constant\n",
    "    b1, b2, b3 - coefficients\n",
    "    "
   ]
  },
  {
   "cell_type": "code",
   "execution_count": 0,
   "metadata": {
    "colab": {},
    "colab_type": "code",
    "id": "NEYQxNbuvYkd",
    "outputId": "67778b43-2f0f-439e-e9e6-991b7d3e61f6"
   },
   "outputs": [
    {
     "data": {
      "text/html": [
       "<div>\n",
       "<style scoped>\n",
       "    .dataframe tbody tr th:only-of-type {\n",
       "        vertical-align: middle;\n",
       "    }\n",
       "\n",
       "    .dataframe tbody tr th {\n",
       "        vertical-align: top;\n",
       "    }\n",
       "\n",
       "    .dataframe thead th {\n",
       "        text-align: right;\n",
       "    }\n",
       "</style>\n",
       "<table border=\"1\" class=\"dataframe\">\n",
       "  <thead>\n",
       "    <tr style=\"text-align: right;\">\n",
       "      <th></th>\n",
       "      <th>sqft_living</th>\n",
       "      <th>view</th>\n",
       "      <th>bedrooms</th>\n",
       "      <th>bathrooms</th>\n",
       "      <th>sqft_basement</th>\n",
       "      <th>price</th>\n",
       "    </tr>\n",
       "  </thead>\n",
       "  <tbody>\n",
       "    <tr>\n",
       "      <th>0</th>\n",
       "      <td>1180</td>\n",
       "      <td>0</td>\n",
       "      <td>3</td>\n",
       "      <td>1.00</td>\n",
       "      <td>0</td>\n",
       "      <td>221900.0</td>\n",
       "    </tr>\n",
       "    <tr>\n",
       "      <th>1</th>\n",
       "      <td>2570</td>\n",
       "      <td>0</td>\n",
       "      <td>3</td>\n",
       "      <td>2.25</td>\n",
       "      <td>400</td>\n",
       "      <td>538000.0</td>\n",
       "    </tr>\n",
       "    <tr>\n",
       "      <th>2</th>\n",
       "      <td>770</td>\n",
       "      <td>0</td>\n",
       "      <td>2</td>\n",
       "      <td>1.00</td>\n",
       "      <td>0</td>\n",
       "      <td>180000.0</td>\n",
       "    </tr>\n",
       "    <tr>\n",
       "      <th>3</th>\n",
       "      <td>1960</td>\n",
       "      <td>0</td>\n",
       "      <td>4</td>\n",
       "      <td>3.00</td>\n",
       "      <td>910</td>\n",
       "      <td>604000.0</td>\n",
       "    </tr>\n",
       "    <tr>\n",
       "      <th>4</th>\n",
       "      <td>1680</td>\n",
       "      <td>0</td>\n",
       "      <td>3</td>\n",
       "      <td>2.00</td>\n",
       "      <td>0</td>\n",
       "      <td>510000.0</td>\n",
       "    </tr>\n",
       "  </tbody>\n",
       "</table>\n",
       "</div>"
      ],
      "text/plain": [
       "   sqft_living  view  bedrooms  bathrooms  sqft_basement     price\n",
       "0         1180     0         3       1.00              0  221900.0\n",
       "1         2570     0         3       2.25            400  538000.0\n",
       "2          770     0         2       1.00              0  180000.0\n",
       "3         1960     0         4       3.00            910  604000.0\n",
       "4         1680     0         3       2.00              0  510000.0"
      ]
     },
     "execution_count": 34,
     "metadata": {
      "tags": []
     },
     "output_type": "execute_result"
    }
   ],
   "source": [
    "df = pd.read_csv('House_data_MLR.csv')\n",
    "df.head()"
   ]
  },
  {
   "cell_type": "code",
   "execution_count": 0,
   "metadata": {
    "colab": {},
    "colab_type": "code",
    "id": "9cj7HxySvYkh",
    "outputId": "d8729e04-51d0-4248-d7ef-1c3d6f4d4c59"
   },
   "outputs": [
    {
     "data": {
      "text/plain": [
       "sqft_living      False\n",
       "view             False\n",
       "bedrooms         False\n",
       "bathrooms        False\n",
       "sqft_basement    False\n",
       "price            False\n",
       "dtype: bool"
      ]
     },
     "execution_count": 35,
     "metadata": {
      "tags": []
     },
     "output_type": "execute_result"
    }
   ],
   "source": [
    "df.isnull().any()\n"
   ]
  },
  {
   "cell_type": "code",
   "execution_count": 0,
   "metadata": {
    "colab": {},
    "colab_type": "code",
    "id": "hQ7Pf76nvYkm",
    "outputId": "7e27775b-2bfc-4385-bb1e-0aed68e7b03b"
   },
   "outputs": [
    {
     "data": {
      "text/plain": [
       "array([[1.18e+03, 0.00e+00, 3.00e+00, 1.00e+00, 0.00e+00],\n",
       "       [2.57e+03, 0.00e+00, 3.00e+00, 2.25e+00, 4.00e+02],\n",
       "       [7.70e+02, 0.00e+00, 2.00e+00, 1.00e+00, 0.00e+00],\n",
       "       ...,\n",
       "       [1.02e+03, 0.00e+00, 2.00e+00, 7.50e-01, 0.00e+00],\n",
       "       [1.60e+03, 0.00e+00, 3.00e+00, 2.50e+00, 0.00e+00],\n",
       "       [1.02e+03, 0.00e+00, 2.00e+00, 7.50e-01, 0.00e+00]])"
      ]
     },
     "execution_count": 36,
     "metadata": {
      "tags": []
     },
     "output_type": "execute_result"
    }
   ],
   "source": [
    "X = df.iloc[:, :-1].values\n",
    "y = df.iloc[:, -1].values\n",
    "X\n",
    "#y"
   ]
  },
  {
   "cell_type": "markdown",
   "metadata": {
    "colab_type": "text",
    "id": "M80FFDkZvYku"
   },
   "source": [
    "### Encoding categorical columns\n",
    "\n",
    "    Encode dummy variables if they are of string datatypes\n",
    "    Use OneHotEncoding to create corresponding columns\n",
    "    Use only n-1 dummy columns, that is drop one dummy column to avoid dummy variable trap.\n",
    "\n",
    "Dummy Variable Trap: If both constant term and an exhaustive set of dummies are present, perfect multicollinearity (one predictor variable in a multiple regression model can be linearly predicted from the other, the correlation between two independent variables is equal to 1 or −1) occurs, and the system of equations formed by the regression does not have a unique solution. This is referred to as the dummy variable trap. The trap can be avoided by removing either the constant term or one of the offending dummies. The removed dummy then becomes the base category against which the other categories are compared\n",
    "\n",
    "\n",
    "https://en.wikipedia.org/wiki/Multicollinearity\n",
    "\n",
    "https://en.wikipedia.org/wiki/Dummy_variable_(statistics)"
   ]
  },
  {
   "cell_type": "code",
   "execution_count": 0,
   "metadata": {
    "colab": {},
    "colab_type": "code",
    "id": "HnDjy3u2vYkx",
    "outputId": "9b988089-da8a-4a24-8deb-91eee3aa6242"
   },
   "outputs": [
    {
     "data": {
      "text/plain": [
       "3     9824\n",
       "4     6882\n",
       "2     2760\n",
       "5     1601\n",
       "6      272\n",
       "1      199\n",
       "7       38\n",
       "8       13\n",
       "0       13\n",
       "9        6\n",
       "10       3\n",
       "11       1\n",
       "33       1\n",
       "Name: bedrooms, dtype: int64"
      ]
     },
     "execution_count": 15,
     "metadata": {
      "tags": []
     },
     "output_type": "execute_result"
    }
   ],
   "source": [
    "df['bedrooms'].value_counts()"
   ]
  },
  {
   "cell_type": "code",
   "execution_count": 0,
   "metadata": {
    "colab": {},
    "colab_type": "code",
    "id": "V-Q77OcmvYk3",
    "outputId": "9fedec4b-3cc9-48c1-efa6-8a85e8bfff94"
   },
   "outputs": [
    {
     "data": {
      "text/html": [
       "<div>\n",
       "<style scoped>\n",
       "    .dataframe tbody tr th:only-of-type {\n",
       "        vertical-align: middle;\n",
       "    }\n",
       "\n",
       "    .dataframe tbody tr th {\n",
       "        vertical-align: top;\n",
       "    }\n",
       "\n",
       "    .dataframe thead th {\n",
       "        text-align: right;\n",
       "    }\n",
       "</style>\n",
       "<table border=\"1\" class=\"dataframe\">\n",
       "  <thead>\n",
       "    <tr style=\"text-align: right;\">\n",
       "      <th></th>\n",
       "      <th>sqft_living</th>\n",
       "      <th>bedrooms</th>\n",
       "      <th>bathrooms</th>\n",
       "      <th>sqft_basement</th>\n",
       "      <th>price</th>\n",
       "      <th>view_0</th>\n",
       "      <th>view_1</th>\n",
       "      <th>view_2</th>\n",
       "      <th>view_3</th>\n",
       "      <th>view_4</th>\n",
       "    </tr>\n",
       "  </thead>\n",
       "  <tbody>\n",
       "    <tr>\n",
       "      <th>0</th>\n",
       "      <td>1180</td>\n",
       "      <td>3</td>\n",
       "      <td>1.00</td>\n",
       "      <td>0</td>\n",
       "      <td>221900.0</td>\n",
       "      <td>1</td>\n",
       "      <td>0</td>\n",
       "      <td>0</td>\n",
       "      <td>0</td>\n",
       "      <td>0</td>\n",
       "    </tr>\n",
       "    <tr>\n",
       "      <th>1</th>\n",
       "      <td>2570</td>\n",
       "      <td>3</td>\n",
       "      <td>2.25</td>\n",
       "      <td>400</td>\n",
       "      <td>538000.0</td>\n",
       "      <td>1</td>\n",
       "      <td>0</td>\n",
       "      <td>0</td>\n",
       "      <td>0</td>\n",
       "      <td>0</td>\n",
       "    </tr>\n",
       "    <tr>\n",
       "      <th>2</th>\n",
       "      <td>770</td>\n",
       "      <td>2</td>\n",
       "      <td>1.00</td>\n",
       "      <td>0</td>\n",
       "      <td>180000.0</td>\n",
       "      <td>1</td>\n",
       "      <td>0</td>\n",
       "      <td>0</td>\n",
       "      <td>0</td>\n",
       "      <td>0</td>\n",
       "    </tr>\n",
       "    <tr>\n",
       "      <th>3</th>\n",
       "      <td>1960</td>\n",
       "      <td>4</td>\n",
       "      <td>3.00</td>\n",
       "      <td>910</td>\n",
       "      <td>604000.0</td>\n",
       "      <td>1</td>\n",
       "      <td>0</td>\n",
       "      <td>0</td>\n",
       "      <td>0</td>\n",
       "      <td>0</td>\n",
       "    </tr>\n",
       "    <tr>\n",
       "      <th>4</th>\n",
       "      <td>1680</td>\n",
       "      <td>3</td>\n",
       "      <td>2.00</td>\n",
       "      <td>0</td>\n",
       "      <td>510000.0</td>\n",
       "      <td>1</td>\n",
       "      <td>0</td>\n",
       "      <td>0</td>\n",
       "      <td>0</td>\n",
       "      <td>0</td>\n",
       "    </tr>\n",
       "    <tr>\n",
       "      <th>5</th>\n",
       "      <td>5420</td>\n",
       "      <td>4</td>\n",
       "      <td>4.50</td>\n",
       "      <td>1530</td>\n",
       "      <td>1225000.0</td>\n",
       "      <td>1</td>\n",
       "      <td>0</td>\n",
       "      <td>0</td>\n",
       "      <td>0</td>\n",
       "      <td>0</td>\n",
       "    </tr>\n",
       "    <tr>\n",
       "      <th>6</th>\n",
       "      <td>1715</td>\n",
       "      <td>3</td>\n",
       "      <td>2.25</td>\n",
       "      <td>0</td>\n",
       "      <td>257500.0</td>\n",
       "      <td>1</td>\n",
       "      <td>0</td>\n",
       "      <td>0</td>\n",
       "      <td>0</td>\n",
       "      <td>0</td>\n",
       "    </tr>\n",
       "    <tr>\n",
       "      <th>7</th>\n",
       "      <td>1060</td>\n",
       "      <td>3</td>\n",
       "      <td>1.50</td>\n",
       "      <td>0</td>\n",
       "      <td>291850.0</td>\n",
       "      <td>1</td>\n",
       "      <td>0</td>\n",
       "      <td>0</td>\n",
       "      <td>0</td>\n",
       "      <td>0</td>\n",
       "    </tr>\n",
       "    <tr>\n",
       "      <th>8</th>\n",
       "      <td>1780</td>\n",
       "      <td>3</td>\n",
       "      <td>1.00</td>\n",
       "      <td>730</td>\n",
       "      <td>229500.0</td>\n",
       "      <td>1</td>\n",
       "      <td>0</td>\n",
       "      <td>0</td>\n",
       "      <td>0</td>\n",
       "      <td>0</td>\n",
       "    </tr>\n",
       "    <tr>\n",
       "      <th>9</th>\n",
       "      <td>1890</td>\n",
       "      <td>3</td>\n",
       "      <td>2.50</td>\n",
       "      <td>0</td>\n",
       "      <td>323000.0</td>\n",
       "      <td>1</td>\n",
       "      <td>0</td>\n",
       "      <td>0</td>\n",
       "      <td>0</td>\n",
       "      <td>0</td>\n",
       "    </tr>\n",
       "    <tr>\n",
       "      <th>10</th>\n",
       "      <td>3560</td>\n",
       "      <td>3</td>\n",
       "      <td>2.50</td>\n",
       "      <td>1700</td>\n",
       "      <td>662500.0</td>\n",
       "      <td>1</td>\n",
       "      <td>0</td>\n",
       "      <td>0</td>\n",
       "      <td>0</td>\n",
       "      <td>0</td>\n",
       "    </tr>\n",
       "    <tr>\n",
       "      <th>11</th>\n",
       "      <td>1160</td>\n",
       "      <td>2</td>\n",
       "      <td>1.00</td>\n",
       "      <td>300</td>\n",
       "      <td>468000.0</td>\n",
       "      <td>1</td>\n",
       "      <td>0</td>\n",
       "      <td>0</td>\n",
       "      <td>0</td>\n",
       "      <td>0</td>\n",
       "    </tr>\n",
       "    <tr>\n",
       "      <th>12</th>\n",
       "      <td>1430</td>\n",
       "      <td>3</td>\n",
       "      <td>1.00</td>\n",
       "      <td>0</td>\n",
       "      <td>310000.0</td>\n",
       "      <td>1</td>\n",
       "      <td>0</td>\n",
       "      <td>0</td>\n",
       "      <td>0</td>\n",
       "      <td>0</td>\n",
       "    </tr>\n",
       "    <tr>\n",
       "      <th>13</th>\n",
       "      <td>1370</td>\n",
       "      <td>3</td>\n",
       "      <td>1.75</td>\n",
       "      <td>0</td>\n",
       "      <td>400000.0</td>\n",
       "      <td>1</td>\n",
       "      <td>0</td>\n",
       "      <td>0</td>\n",
       "      <td>0</td>\n",
       "      <td>0</td>\n",
       "    </tr>\n",
       "    <tr>\n",
       "      <th>14</th>\n",
       "      <td>1810</td>\n",
       "      <td>5</td>\n",
       "      <td>2.00</td>\n",
       "      <td>0</td>\n",
       "      <td>530000.0</td>\n",
       "      <td>1</td>\n",
       "      <td>0</td>\n",
       "      <td>0</td>\n",
       "      <td>0</td>\n",
       "      <td>0</td>\n",
       "    </tr>\n",
       "    <tr>\n",
       "      <th>15</th>\n",
       "      <td>2950</td>\n",
       "      <td>4</td>\n",
       "      <td>3.00</td>\n",
       "      <td>970</td>\n",
       "      <td>650000.0</td>\n",
       "      <td>0</td>\n",
       "      <td>0</td>\n",
       "      <td>0</td>\n",
       "      <td>1</td>\n",
       "      <td>0</td>\n",
       "    </tr>\n",
       "    <tr>\n",
       "      <th>16</th>\n",
       "      <td>1890</td>\n",
       "      <td>3</td>\n",
       "      <td>2.00</td>\n",
       "      <td>0</td>\n",
       "      <td>395000.0</td>\n",
       "      <td>1</td>\n",
       "      <td>0</td>\n",
       "      <td>0</td>\n",
       "      <td>0</td>\n",
       "      <td>0</td>\n",
       "    </tr>\n",
       "    <tr>\n",
       "      <th>17</th>\n",
       "      <td>1600</td>\n",
       "      <td>4</td>\n",
       "      <td>1.00</td>\n",
       "      <td>0</td>\n",
       "      <td>485000.0</td>\n",
       "      <td>1</td>\n",
       "      <td>0</td>\n",
       "      <td>0</td>\n",
       "      <td>0</td>\n",
       "      <td>0</td>\n",
       "    </tr>\n",
       "    <tr>\n",
       "      <th>18</th>\n",
       "      <td>1200</td>\n",
       "      <td>2</td>\n",
       "      <td>1.00</td>\n",
       "      <td>0</td>\n",
       "      <td>189000.0</td>\n",
       "      <td>1</td>\n",
       "      <td>0</td>\n",
       "      <td>0</td>\n",
       "      <td>0</td>\n",
       "      <td>0</td>\n",
       "    </tr>\n",
       "    <tr>\n",
       "      <th>19</th>\n",
       "      <td>1250</td>\n",
       "      <td>3</td>\n",
       "      <td>1.00</td>\n",
       "      <td>0</td>\n",
       "      <td>230000.0</td>\n",
       "      <td>1</td>\n",
       "      <td>0</td>\n",
       "      <td>0</td>\n",
       "      <td>0</td>\n",
       "      <td>0</td>\n",
       "    </tr>\n",
       "  </tbody>\n",
       "</table>\n",
       "</div>"
      ],
      "text/plain": [
       "    sqft_living  bedrooms  bathrooms  sqft_basement      price  view_0  \\\n",
       "0          1180         3       1.00              0   221900.0       1   \n",
       "1          2570         3       2.25            400   538000.0       1   \n",
       "2           770         2       1.00              0   180000.0       1   \n",
       "3          1960         4       3.00            910   604000.0       1   \n",
       "4          1680         3       2.00              0   510000.0       1   \n",
       "5          5420         4       4.50           1530  1225000.0       1   \n",
       "6          1715         3       2.25              0   257500.0       1   \n",
       "7          1060         3       1.50              0   291850.0       1   \n",
       "8          1780         3       1.00            730   229500.0       1   \n",
       "9          1890         3       2.50              0   323000.0       1   \n",
       "10         3560         3       2.50           1700   662500.0       1   \n",
       "11         1160         2       1.00            300   468000.0       1   \n",
       "12         1430         3       1.00              0   310000.0       1   \n",
       "13         1370         3       1.75              0   400000.0       1   \n",
       "14         1810         5       2.00              0   530000.0       1   \n",
       "15         2950         4       3.00            970   650000.0       0   \n",
       "16         1890         3       2.00              0   395000.0       1   \n",
       "17         1600         4       1.00              0   485000.0       1   \n",
       "18         1200         2       1.00              0   189000.0       1   \n",
       "19         1250         3       1.00              0   230000.0       1   \n",
       "\n",
       "    view_1  view_2  view_3  view_4  \n",
       "0        0       0       0       0  \n",
       "1        0       0       0       0  \n",
       "2        0       0       0       0  \n",
       "3        0       0       0       0  \n",
       "4        0       0       0       0  \n",
       "5        0       0       0       0  \n",
       "6        0       0       0       0  \n",
       "7        0       0       0       0  \n",
       "8        0       0       0       0  \n",
       "9        0       0       0       0  \n",
       "10       0       0       0       0  \n",
       "11       0       0       0       0  \n",
       "12       0       0       0       0  \n",
       "13       0       0       0       0  \n",
       "14       0       0       0       0  \n",
       "15       0       0       1       0  \n",
       "16       0       0       0       0  \n",
       "17       0       0       0       0  \n",
       "18       0       0       0       0  \n",
       "19       0       0       0       0  "
      ]
     },
     "execution_count": 17,
     "metadata": {
      "tags": []
     },
     "output_type": "execute_result"
    }
   ],
   "source": [
    "df_d = pd.get_dummies(df, columns = [\"view\"])\n",
    "df_d.head(20)"
   ]
  },
  {
   "cell_type": "code",
   "execution_count": 0,
   "metadata": {
    "colab": {},
    "colab_type": "code",
    "id": "_IDtCfcZvYk6",
    "outputId": "543a46d3-844b-4eee-8556-bed4d1be0754"
   },
   "outputs": [
    {
     "data": {
      "text/plain": [
       "array([0., 0., 0., ..., 0., 0., 0.])"
      ]
     },
     "execution_count": 18,
     "metadata": {
      "tags": []
     },
     "output_type": "execute_result"
    }
   ],
   "source": [
    "X[:, 1]"
   ]
  },
  {
   "cell_type": "code",
   "execution_count": 0,
   "metadata": {
    "colab": {},
    "colab_type": "code",
    "id": "um_5UHa1vYk9",
    "outputId": "108165cb-1b07-4c14-c360-ac033800f4b2"
   },
   "outputs": [
    {
     "name": "stdout",
     "output_type": "stream",
     "text": [
      "[[1.18e+03 0.00e+00 3.00e+00 1.00e+00 0.00e+00]\n",
      " [2.57e+03 0.00e+00 3.00e+00 2.25e+00 4.00e+02]\n",
      " [7.70e+02 0.00e+00 2.00e+00 1.00e+00 0.00e+00]\n",
      " ...\n",
      " [1.02e+03 0.00e+00 2.00e+00 7.50e-01 0.00e+00]\n",
      " [1.60e+03 0.00e+00 3.00e+00 2.50e+00 0.00e+00]\n",
      " [1.02e+03 0.00e+00 2.00e+00 7.50e-01 0.00e+00]]\n"
     ]
    },
    {
     "name": "stderr",
     "output_type": "stream",
     "text": [
      "C:\\Users\\SrivastavA12\\AppData\\Local\\Continuum\\anaconda3\\lib\\site-packages\\sklearn\\preprocessing\\_encoders.py:363: FutureWarning: The handling of integer data will change in version 0.22. Currently, the categories are determined based on the range [0, max(values)], while in the future they will be determined based on the unique values.\n",
      "If you want the future behaviour and silence this warning, you can specify \"categories='auto'\".\n",
      "In case you used a LabelEncoder before this OneHotEncoder to convert the categories to integers, then you can now use the OneHotEncoder directly.\n",
      "  warnings.warn(msg, FutureWarning)\n",
      "C:\\Users\\SrivastavA12\\AppData\\Local\\Continuum\\anaconda3\\lib\\site-packages\\sklearn\\preprocessing\\_encoders.py:385: DeprecationWarning: The 'categorical_features' keyword is deprecated in version 0.20 and will be removed in 0.22. You can use the ColumnTransformer instead.\n",
      "  \"use the ColumnTransformer instead.\", DeprecationWarning)\n"
     ]
    }
   ],
   "source": [
    "#1. Encode dummy variables if they are of string datatypes\n",
    "\n",
    "from sklearn.preprocessing import LabelEncoder, OneHotEncoder\n",
    "le = LabelEncoder()  \n",
    "X[:, 1] = le.fit_transform(X[:, 1])\n",
    "print(X)\n",
    "#2. Use OneHotEncoding to create corresponding columns\n",
    "\n",
    "onehotencoder = OneHotEncoder(categorical_features = [1])\n",
    "X = onehotencoder.fit_transform(X).toarray()\n",
    "X = np.round(X)\n",
    "\n",
    "#3. Use only n-1 dummy columns, that is drop one dummy column to avoid dummy variable trap.\n",
    "\n",
    "# X = X[:, 1:] # We will not use this for sklearn Linear regression as the library takes care of it\n"
   ]
  },
  {
   "cell_type": "code",
   "execution_count": 0,
   "metadata": {
    "colab": {},
    "colab_type": "code",
    "id": "CQjaIJG0vYlA"
   },
   "outputs": [],
   "source": [
    "#split dataset into train and test\n",
    "\n",
    "from sklearn.model_selection import train_test_split\n",
    "X_train, X_test, y_train, y_test = train_test_split(X, y, test_size = 0.2, random_state = 0)\n",
    "\n",
    "#fit the model\n",
    "from sklearn.linear_model import LinearRegression\n",
    "mlr = LinearRegression()\n",
    "mlr.fit(X_train, y_train)\n",
    "\n",
    "#predict the test set results\n",
    "y_pred = mlr.predict(X_test)\n"
   ]
  },
  {
   "cell_type": "code",
   "execution_count": 0,
   "metadata": {
    "colab": {},
    "colab_type": "code",
    "id": "rTJcq4nEvYlC",
    "outputId": "132f3026-a786-4c46-9681-97e2df9b7aea"
   },
   "outputs": [
    {
     "data": {
      "text/plain": [
       "(235364.45119249323,\n",
       " 0.5341873848561487,\n",
       " 0.5339933232195105,\n",
       " array([-2.22237443e+05, -5.53929060e+04, -1.05988711e+05, -2.11699014e+04,\n",
       "         4.04788961e+05,  2.69176765e+02, -4.78110015e+04,  3.41184619e+04,\n",
       "        -9.35904880e+00]),\n",
       " 275964.4377363802)"
      ]
     },
     "execution_count": 20,
     "metadata": {
      "tags": []
     },
     "output_type": "execute_result"
    }
   ],
   "source": [
    "from sklearn.metrics import mean_squared_error\n",
    "from math import sqrt\n",
    "\n",
    "rmse = sqrt(mean_squared_error(y_test, y_pred))\n",
    "\n",
    "from sklearn.metrics import r2_score\n",
    "r2 = r2_score(y_test, y_pred)\n",
    "\n",
    "adj_r2 = 1 - float(len(y)-1)/(len(y)-len(mlr.coef_)-1)*(1 - r2)\n",
    "\n",
    "rmse, r2, adj_r2, mlr.coef_, mlr.intercept_"
   ]
  },
  {
   "cell_type": "markdown",
   "metadata": {
    "colab_type": "text",
    "id": "CsBho_fpvYlF"
   },
   "source": [
    "### Multiple Linear Regression \n",
    "\n",
    "Entire Dataset with multiple categorical columns"
   ]
  },
  {
   "cell_type": "code",
   "execution_count": 0,
   "metadata": {
    "colab": {},
    "colab_type": "code",
    "id": "wXJAur7rvYlG",
    "outputId": "32c94ae2-2ecc-466d-8403-c31b15c925ef"
   },
   "outputs": [
    {
     "data": {
      "text/html": [
       "<div>\n",
       "<style scoped>\n",
       "    .dataframe tbody tr th:only-of-type {\n",
       "        vertical-align: middle;\n",
       "    }\n",
       "\n",
       "    .dataframe tbody tr th {\n",
       "        vertical-align: top;\n",
       "    }\n",
       "\n",
       "    .dataframe thead th {\n",
       "        text-align: right;\n",
       "    }\n",
       "</style>\n",
       "<table border=\"1\" class=\"dataframe\">\n",
       "  <thead>\n",
       "    <tr style=\"text-align: right;\">\n",
       "      <th></th>\n",
       "      <th>id</th>\n",
       "      <th>date</th>\n",
       "      <th>price</th>\n",
       "      <th>bedrooms</th>\n",
       "      <th>bathrooms</th>\n",
       "      <th>sqft_living</th>\n",
       "      <th>sqft_lot</th>\n",
       "      <th>floors</th>\n",
       "      <th>waterfront</th>\n",
       "      <th>view</th>\n",
       "      <th>...</th>\n",
       "      <th>grade</th>\n",
       "      <th>sqft_above</th>\n",
       "      <th>sqft_basement</th>\n",
       "      <th>yr_built</th>\n",
       "      <th>yr_renovated</th>\n",
       "      <th>zipcode</th>\n",
       "      <th>lat</th>\n",
       "      <th>long</th>\n",
       "      <th>sqft_living15</th>\n",
       "      <th>sqft_lot15</th>\n",
       "    </tr>\n",
       "  </thead>\n",
       "  <tbody>\n",
       "    <tr>\n",
       "      <th>0</th>\n",
       "      <td>7129300520</td>\n",
       "      <td>20141013T000000</td>\n",
       "      <td>221900.0</td>\n",
       "      <td>3</td>\n",
       "      <td>1.00</td>\n",
       "      <td>1180</td>\n",
       "      <td>5650</td>\n",
       "      <td>1.0</td>\n",
       "      <td>0</td>\n",
       "      <td>0</td>\n",
       "      <td>...</td>\n",
       "      <td>7</td>\n",
       "      <td>1180</td>\n",
       "      <td>0</td>\n",
       "      <td>1955</td>\n",
       "      <td>0</td>\n",
       "      <td>98178</td>\n",
       "      <td>47.5112</td>\n",
       "      <td>-122.257</td>\n",
       "      <td>1340</td>\n",
       "      <td>5650</td>\n",
       "    </tr>\n",
       "    <tr>\n",
       "      <th>1</th>\n",
       "      <td>6414100192</td>\n",
       "      <td>20141209T000000</td>\n",
       "      <td>538000.0</td>\n",
       "      <td>3</td>\n",
       "      <td>2.25</td>\n",
       "      <td>2570</td>\n",
       "      <td>7242</td>\n",
       "      <td>2.0</td>\n",
       "      <td>0</td>\n",
       "      <td>0</td>\n",
       "      <td>...</td>\n",
       "      <td>7</td>\n",
       "      <td>2170</td>\n",
       "      <td>400</td>\n",
       "      <td>1951</td>\n",
       "      <td>1991</td>\n",
       "      <td>98125</td>\n",
       "      <td>47.7210</td>\n",
       "      <td>-122.319</td>\n",
       "      <td>1690</td>\n",
       "      <td>7639</td>\n",
       "    </tr>\n",
       "    <tr>\n",
       "      <th>2</th>\n",
       "      <td>5631500400</td>\n",
       "      <td>20150225T000000</td>\n",
       "      <td>180000.0</td>\n",
       "      <td>2</td>\n",
       "      <td>1.00</td>\n",
       "      <td>770</td>\n",
       "      <td>10000</td>\n",
       "      <td>1.0</td>\n",
       "      <td>0</td>\n",
       "      <td>0</td>\n",
       "      <td>...</td>\n",
       "      <td>6</td>\n",
       "      <td>770</td>\n",
       "      <td>0</td>\n",
       "      <td>1933</td>\n",
       "      <td>0</td>\n",
       "      <td>98028</td>\n",
       "      <td>47.7379</td>\n",
       "      <td>-122.233</td>\n",
       "      <td>2720</td>\n",
       "      <td>8062</td>\n",
       "    </tr>\n",
       "    <tr>\n",
       "      <th>3</th>\n",
       "      <td>2487200875</td>\n",
       "      <td>20141209T000000</td>\n",
       "      <td>604000.0</td>\n",
       "      <td>4</td>\n",
       "      <td>3.00</td>\n",
       "      <td>1960</td>\n",
       "      <td>5000</td>\n",
       "      <td>1.0</td>\n",
       "      <td>0</td>\n",
       "      <td>0</td>\n",
       "      <td>...</td>\n",
       "      <td>7</td>\n",
       "      <td>1050</td>\n",
       "      <td>910</td>\n",
       "      <td>1965</td>\n",
       "      <td>0</td>\n",
       "      <td>98136</td>\n",
       "      <td>47.5208</td>\n",
       "      <td>-122.393</td>\n",
       "      <td>1360</td>\n",
       "      <td>5000</td>\n",
       "    </tr>\n",
       "    <tr>\n",
       "      <th>4</th>\n",
       "      <td>1954400510</td>\n",
       "      <td>20150218T000000</td>\n",
       "      <td>510000.0</td>\n",
       "      <td>3</td>\n",
       "      <td>2.00</td>\n",
       "      <td>1680</td>\n",
       "      <td>8080</td>\n",
       "      <td>1.0</td>\n",
       "      <td>0</td>\n",
       "      <td>0</td>\n",
       "      <td>...</td>\n",
       "      <td>8</td>\n",
       "      <td>1680</td>\n",
       "      <td>0</td>\n",
       "      <td>1987</td>\n",
       "      <td>0</td>\n",
       "      <td>98074</td>\n",
       "      <td>47.6168</td>\n",
       "      <td>-122.045</td>\n",
       "      <td>1800</td>\n",
       "      <td>7503</td>\n",
       "    </tr>\n",
       "  </tbody>\n",
       "</table>\n",
       "<p>5 rows × 21 columns</p>\n",
       "</div>"
      ],
      "text/plain": [
       "           id             date     price  bedrooms  bathrooms  sqft_living  \\\n",
       "0  7129300520  20141013T000000  221900.0         3       1.00         1180   \n",
       "1  6414100192  20141209T000000  538000.0         3       2.25         2570   \n",
       "2  5631500400  20150225T000000  180000.0         2       1.00          770   \n",
       "3  2487200875  20141209T000000  604000.0         4       3.00         1960   \n",
       "4  1954400510  20150218T000000  510000.0         3       2.00         1680   \n",
       "\n",
       "   sqft_lot  floors  waterfront  view     ...      grade  sqft_above  \\\n",
       "0      5650     1.0           0     0     ...          7        1180   \n",
       "1      7242     2.0           0     0     ...          7        2170   \n",
       "2     10000     1.0           0     0     ...          6         770   \n",
       "3      5000     1.0           0     0     ...          7        1050   \n",
       "4      8080     1.0           0     0     ...          8        1680   \n",
       "\n",
       "   sqft_basement  yr_built  yr_renovated  zipcode      lat     long  \\\n",
       "0              0      1955             0    98178  47.5112 -122.257   \n",
       "1            400      1951          1991    98125  47.7210 -122.319   \n",
       "2              0      1933             0    98028  47.7379 -122.233   \n",
       "3            910      1965             0    98136  47.5208 -122.393   \n",
       "4              0      1987             0    98074  47.6168 -122.045   \n",
       "\n",
       "   sqft_living15  sqft_lot15  \n",
       "0           1340        5650  \n",
       "1           1690        7639  \n",
       "2           2720        8062  \n",
       "3           1360        5000  \n",
       "4           1800        7503  \n",
       "\n",
       "[5 rows x 21 columns]"
      ]
     },
     "execution_count": 21,
     "metadata": {
      "tags": []
     },
     "output_type": "execute_result"
    }
   ],
   "source": [
    "df = pd.read_csv('House_data.csv')\n",
    "df.head()"
   ]
  },
  {
   "cell_type": "code",
   "execution_count": 0,
   "metadata": {
    "colab": {},
    "colab_type": "code",
    "id": "_fhemaahvYlJ",
    "outputId": "418d3be2-01a1-4629-acb9-463bab067540"
   },
   "outputs": [
    {
     "data": {
      "image/png": "[encoded data removed]",
      "text/plain": [
       "<Figure size 864x864 with 2 Axes>"
      ]
     },
     "metadata": {
      "tags": []
     },
     "output_type": "display_data"
    }
   ],
   "source": [
    "df.drop(['id', 'date'], axis = 1, inplace = True)\n",
    "fig, ax = plt.subplots(figsize = (12,12))\n",
    "ax = sns.heatmap(df.corr(),annot = True)"
   ]
  },
  {
   "cell_type": "markdown",
   "metadata": {
    "colab_type": "text",
    "id": "_rKounFfvYlL"
   },
   "source": [
    "#### Data Cleaning"
   ]
  },
  {
   "cell_type": "code",
   "execution_count": 0,
   "metadata": {
    "colab": {},
    "colab_type": "code",
    "id": "xexJri1qvYlM",
    "outputId": "84508a0b-01c5-4531-e212-29a98570b04f"
   },
   "outputs": [
    {
     "data": {
      "text/html": [
       "<div>\n",
       "<style scoped>\n",
       "    .dataframe tbody tr th:only-of-type {\n",
       "        vertical-align: middle;\n",
       "    }\n",
       "\n",
       "    .dataframe tbody tr th {\n",
       "        vertical-align: top;\n",
       "    }\n",
       "\n",
       "    .dataframe thead th {\n",
       "        text-align: right;\n",
       "    }\n",
       "</style>\n",
       "<table border=\"1\" class=\"dataframe\">\n",
       "  <thead>\n",
       "    <tr style=\"text-align: right;\">\n",
       "      <th></th>\n",
       "      <th>price</th>\n",
       "      <th>bedrooms</th>\n",
       "      <th>bathrooms</th>\n",
       "      <th>sqft_living</th>\n",
       "      <th>sqft_lot</th>\n",
       "      <th>floors</th>\n",
       "      <th>waterfront</th>\n",
       "      <th>view</th>\n",
       "      <th>condition</th>\n",
       "      <th>grade</th>\n",
       "      <th>sqft_above</th>\n",
       "      <th>yr_built</th>\n",
       "      <th>zipcode</th>\n",
       "      <th>lat</th>\n",
       "      <th>long</th>\n",
       "      <th>sqft_living15</th>\n",
       "      <th>sqft_lot15</th>\n",
       "      <th>basement</th>\n",
       "      <th>renovated</th>\n",
       "    </tr>\n",
       "  </thead>\n",
       "  <tbody>\n",
       "    <tr>\n",
       "      <th>0</th>\n",
       "      <td>221900.0</td>\n",
       "      <td>3</td>\n",
       "      <td>1.00</td>\n",
       "      <td>1180</td>\n",
       "      <td>5650</td>\n",
       "      <td>1.0</td>\n",
       "      <td>0</td>\n",
       "      <td>0</td>\n",
       "      <td>3</td>\n",
       "      <td>7</td>\n",
       "      <td>1180</td>\n",
       "      <td>1955</td>\n",
       "      <td>98178</td>\n",
       "      <td>47.5112</td>\n",
       "      <td>-122.257</td>\n",
       "      <td>1340</td>\n",
       "      <td>5650</td>\n",
       "      <td>0</td>\n",
       "      <td>0</td>\n",
       "    </tr>\n",
       "    <tr>\n",
       "      <th>1</th>\n",
       "      <td>538000.0</td>\n",
       "      <td>3</td>\n",
       "      <td>2.25</td>\n",
       "      <td>2570</td>\n",
       "      <td>7242</td>\n",
       "      <td>2.0</td>\n",
       "      <td>0</td>\n",
       "      <td>0</td>\n",
       "      <td>3</td>\n",
       "      <td>7</td>\n",
       "      <td>2170</td>\n",
       "      <td>1951</td>\n",
       "      <td>98125</td>\n",
       "      <td>47.7210</td>\n",
       "      <td>-122.319</td>\n",
       "      <td>1690</td>\n",
       "      <td>7639</td>\n",
       "      <td>1</td>\n",
       "      <td>1</td>\n",
       "    </tr>\n",
       "    <tr>\n",
       "      <th>2</th>\n",
       "      <td>180000.0</td>\n",
       "      <td>2</td>\n",
       "      <td>1.00</td>\n",
       "      <td>770</td>\n",
       "      <td>10000</td>\n",
       "      <td>1.0</td>\n",
       "      <td>0</td>\n",
       "      <td>0</td>\n",
       "      <td>3</td>\n",
       "      <td>6</td>\n",
       "      <td>770</td>\n",
       "      <td>1933</td>\n",
       "      <td>98028</td>\n",
       "      <td>47.7379</td>\n",
       "      <td>-122.233</td>\n",
       "      <td>2720</td>\n",
       "      <td>8062</td>\n",
       "      <td>0</td>\n",
       "      <td>0</td>\n",
       "    </tr>\n",
       "    <tr>\n",
       "      <th>3</th>\n",
       "      <td>604000.0</td>\n",
       "      <td>4</td>\n",
       "      <td>3.00</td>\n",
       "      <td>1960</td>\n",
       "      <td>5000</td>\n",
       "      <td>1.0</td>\n",
       "      <td>0</td>\n",
       "      <td>0</td>\n",
       "      <td>5</td>\n",
       "      <td>7</td>\n",
       "      <td>1050</td>\n",
       "      <td>1965</td>\n",
       "      <td>98136</td>\n",
       "      <td>47.5208</td>\n",
       "      <td>-122.393</td>\n",
       "      <td>1360</td>\n",
       "      <td>5000</td>\n",
       "      <td>1</td>\n",
       "      <td>0</td>\n",
       "    </tr>\n",
       "    <tr>\n",
       "      <th>4</th>\n",
       "      <td>510000.0</td>\n",
       "      <td>3</td>\n",
       "      <td>2.00</td>\n",
       "      <td>1680</td>\n",
       "      <td>8080</td>\n",
       "      <td>1.0</td>\n",
       "      <td>0</td>\n",
       "      <td>0</td>\n",
       "      <td>3</td>\n",
       "      <td>8</td>\n",
       "      <td>1680</td>\n",
       "      <td>1987</td>\n",
       "      <td>98074</td>\n",
       "      <td>47.6168</td>\n",
       "      <td>-122.045</td>\n",
       "      <td>1800</td>\n",
       "      <td>7503</td>\n",
       "      <td>0</td>\n",
       "      <td>0</td>\n",
       "    </tr>\n",
       "  </tbody>\n",
       "</table>\n",
       "</div>"
      ],
      "text/plain": [
       "      price  bedrooms  bathrooms  sqft_living  sqft_lot  floors  waterfront  \\\n",
       "0  221900.0         3       1.00         1180      5650     1.0           0   \n",
       "1  538000.0         3       2.25         2570      7242     2.0           0   \n",
       "2  180000.0         2       1.00          770     10000     1.0           0   \n",
       "3  604000.0         4       3.00         1960      5000     1.0           0   \n",
       "4  510000.0         3       2.00         1680      8080     1.0           0   \n",
       "\n",
       "   view  condition  grade  sqft_above  yr_built  zipcode      lat     long  \\\n",
       "0     0          3      7        1180      1955    98178  47.5112 -122.257   \n",
       "1     0          3      7        2170      1951    98125  47.7210 -122.319   \n",
       "2     0          3      6         770      1933    98028  47.7379 -122.233   \n",
       "3     0          5      7        1050      1965    98136  47.5208 -122.393   \n",
       "4     0          3      8        1680      1987    98074  47.6168 -122.045   \n",
       "\n",
       "   sqft_living15  sqft_lot15  basement  renovated  \n",
       "0           1340        5650         0          0  \n",
       "1           1690        7639         1          1  \n",
       "2           2720        8062         0          0  \n",
       "3           1360        5000         1          0  \n",
       "4           1800        7503         0          0  "
      ]
     },
     "execution_count": 23,
     "metadata": {
      "tags": []
     },
     "output_type": "execute_result"
    }
   ],
   "source": [
    "df.isnull().any()\n",
    "df['basement'] = (df['sqft_basement'] > 0).astype(int)\n",
    "df['renovated'] = (df['yr_renovated'] > 0).astype(int)\n",
    "\n",
    "to_drop = ['sqft_basement', 'yr_renovated']\n",
    "df.drop(to_drop, axis = 1, inplace = True)\n",
    "\n",
    "df.head()"
   ]
  },
  {
   "cell_type": "markdown",
   "metadata": {
    "colab_type": "text",
    "id": "MiSzfFoXvYlQ"
   },
   "source": [
    "#### Handling Categorical Columns"
   ]
  },
  {
   "cell_type": "code",
   "execution_count": 0,
   "metadata": {
    "colab": {},
    "colab_type": "code",
    "id": "GNnq35rGvYlS",
    "outputId": "05c80e8d-d101-4a9b-9748-d7254b621307"
   },
   "outputs": [
    {
     "data": {
      "text/html": [
       "<div>\n",
       "<style scoped>\n",
       "    .dataframe tbody tr th:only-of-type {\n",
       "        vertical-align: middle;\n",
       "    }\n",
       "\n",
       "    .dataframe tbody tr th {\n",
       "        vertical-align: top;\n",
       "    }\n",
       "\n",
       "    .dataframe thead th {\n",
       "        text-align: right;\n",
       "    }\n",
       "</style>\n",
       "<table border=\"1\" class=\"dataframe\">\n",
       "  <thead>\n",
       "    <tr style=\"text-align: right;\">\n",
       "      <th></th>\n",
       "      <th>price</th>\n",
       "      <th>bedrooms</th>\n",
       "      <th>bathrooms</th>\n",
       "      <th>sqft_living</th>\n",
       "      <th>sqft_lot</th>\n",
       "      <th>sqft_above</th>\n",
       "      <th>yr_built</th>\n",
       "      <th>lat</th>\n",
       "      <th>long</th>\n",
       "      <th>sqft_living15</th>\n",
       "      <th>...</th>\n",
       "      <th>zipcode_98146</th>\n",
       "      <th>zipcode_98148</th>\n",
       "      <th>zipcode_98155</th>\n",
       "      <th>zipcode_98166</th>\n",
       "      <th>zipcode_98168</th>\n",
       "      <th>zipcode_98177</th>\n",
       "      <th>zipcode_98178</th>\n",
       "      <th>zipcode_98188</th>\n",
       "      <th>zipcode_98198</th>\n",
       "      <th>zipcode_98199</th>\n",
       "    </tr>\n",
       "  </thead>\n",
       "  <tbody>\n",
       "    <tr>\n",
       "      <th>0</th>\n",
       "      <td>221900.0</td>\n",
       "      <td>3</td>\n",
       "      <td>1.00</td>\n",
       "      <td>1180</td>\n",
       "      <td>5650</td>\n",
       "      <td>1180</td>\n",
       "      <td>1955</td>\n",
       "      <td>47.5112</td>\n",
       "      <td>-122.257</td>\n",
       "      <td>1340</td>\n",
       "      <td>...</td>\n",
       "      <td>0</td>\n",
       "      <td>0</td>\n",
       "      <td>0</td>\n",
       "      <td>0</td>\n",
       "      <td>0</td>\n",
       "      <td>0</td>\n",
       "      <td>1</td>\n",
       "      <td>0</td>\n",
       "      <td>0</td>\n",
       "      <td>0</td>\n",
       "    </tr>\n",
       "    <tr>\n",
       "      <th>1</th>\n",
       "      <td>538000.0</td>\n",
       "      <td>3</td>\n",
       "      <td>2.25</td>\n",
       "      <td>2570</td>\n",
       "      <td>7242</td>\n",
       "      <td>2170</td>\n",
       "      <td>1951</td>\n",
       "      <td>47.7210</td>\n",
       "      <td>-122.319</td>\n",
       "      <td>1690</td>\n",
       "      <td>...</td>\n",
       "      <td>0</td>\n",
       "      <td>0</td>\n",
       "      <td>0</td>\n",
       "      <td>0</td>\n",
       "      <td>0</td>\n",
       "      <td>0</td>\n",
       "      <td>0</td>\n",
       "      <td>0</td>\n",
       "      <td>0</td>\n",
       "      <td>0</td>\n",
       "    </tr>\n",
       "    <tr>\n",
       "      <th>2</th>\n",
       "      <td>180000.0</td>\n",
       "      <td>2</td>\n",
       "      <td>1.00</td>\n",
       "      <td>770</td>\n",
       "      <td>10000</td>\n",
       "      <td>770</td>\n",
       "      <td>1933</td>\n",
       "      <td>47.7379</td>\n",
       "      <td>-122.233</td>\n",
       "      <td>2720</td>\n",
       "      <td>...</td>\n",
       "      <td>0</td>\n",
       "      <td>0</td>\n",
       "      <td>0</td>\n",
       "      <td>0</td>\n",
       "      <td>0</td>\n",
       "      <td>0</td>\n",
       "      <td>0</td>\n",
       "      <td>0</td>\n",
       "      <td>0</td>\n",
       "      <td>0</td>\n",
       "    </tr>\n",
       "    <tr>\n",
       "      <th>3</th>\n",
       "      <td>604000.0</td>\n",
       "      <td>4</td>\n",
       "      <td>3.00</td>\n",
       "      <td>1960</td>\n",
       "      <td>5000</td>\n",
       "      <td>1050</td>\n",
       "      <td>1965</td>\n",
       "      <td>47.5208</td>\n",
       "      <td>-122.393</td>\n",
       "      <td>1360</td>\n",
       "      <td>...</td>\n",
       "      <td>0</td>\n",
       "      <td>0</td>\n",
       "      <td>0</td>\n",
       "      <td>0</td>\n",
       "      <td>0</td>\n",
       "      <td>0</td>\n",
       "      <td>0</td>\n",
       "      <td>0</td>\n",
       "      <td>0</td>\n",
       "      <td>0</td>\n",
       "    </tr>\n",
       "    <tr>\n",
       "      <th>4</th>\n",
       "      <td>510000.0</td>\n",
       "      <td>3</td>\n",
       "      <td>2.00</td>\n",
       "      <td>1680</td>\n",
       "      <td>8080</td>\n",
       "      <td>1680</td>\n",
       "      <td>1987</td>\n",
       "      <td>47.6168</td>\n",
       "      <td>-122.045</td>\n",
       "      <td>1800</td>\n",
       "      <td>...</td>\n",
       "      <td>0</td>\n",
       "      <td>0</td>\n",
       "      <td>0</td>\n",
       "      <td>0</td>\n",
       "      <td>0</td>\n",
       "      <td>0</td>\n",
       "      <td>0</td>\n",
       "      <td>0</td>\n",
       "      <td>0</td>\n",
       "      <td>0</td>\n",
       "    </tr>\n",
       "  </tbody>\n",
       "</table>\n",
       "<p>5 rows × 107 columns</p>\n",
       "</div>"
      ],
      "text/plain": [
       "      price  bedrooms  bathrooms  sqft_living  sqft_lot  sqft_above  yr_built  \\\n",
       "0  221900.0         3       1.00         1180      5650        1180      1955   \n",
       "1  538000.0         3       2.25         2570      7242        2170      1951   \n",
       "2  180000.0         2       1.00          770     10000         770      1933   \n",
       "3  604000.0         4       3.00         1960      5000        1050      1965   \n",
       "4  510000.0         3       2.00         1680      8080        1680      1987   \n",
       "\n",
       "       lat     long  sqft_living15      ...        zipcode_98146  \\\n",
       "0  47.5112 -122.257           1340      ...                    0   \n",
       "1  47.7210 -122.319           1690      ...                    0   \n",
       "2  47.7379 -122.233           2720      ...                    0   \n",
       "3  47.5208 -122.393           1360      ...                    0   \n",
       "4  47.6168 -122.045           1800      ...                    0   \n",
       "\n",
       "   zipcode_98148  zipcode_98155  zipcode_98166  zipcode_98168  zipcode_98177  \\\n",
       "0              0              0              0              0              0   \n",
       "1              0              0              0              0              0   \n",
       "2              0              0              0              0              0   \n",
       "3              0              0              0              0              0   \n",
       "4              0              0              0              0              0   \n",
       "\n",
       "   zipcode_98178  zipcode_98188  zipcode_98198  zipcode_98199  \n",
       "0              1              0              0              0  \n",
       "1              0              0              0              0  \n",
       "2              0              0              0              0  \n",
       "3              0              0              0              0  \n",
       "4              0              0              0              0  \n",
       "\n",
       "[5 rows x 107 columns]"
      ]
     },
     "execution_count": 24,
     "metadata": {
      "tags": []
     },
     "output_type": "execute_result"
    }
   ],
   "source": [
    "cat_cols = ['waterfront', 'view', 'condition', 'grade', 'floors','zipcode']\n",
    "\n",
    "df = pd.get_dummies(df, columns = cat_cols, drop_first=True)\n",
    "df.head()"
   ]
  },
  {
   "cell_type": "markdown",
   "metadata": {
    "colab_type": "text",
    "id": "96oda1qqvYlV"
   },
   "source": [
    "#### Multiple Linear Regression Model"
   ]
  },
  {
   "cell_type": "code",
   "execution_count": 0,
   "metadata": {
    "colab": {},
    "colab_type": "code",
    "id": "9tRXy8ypvYlV"
   },
   "outputs": [],
   "source": [
    "X = df.iloc[:, 1:].values\n",
    "y = df.iloc[:, 0].values\n",
    "\n",
    "#split dataset into train and test\n",
    "from sklearn.model_selection import train_test_split\n",
    "X_train, X_test, y_train, y_test = train_test_split(X, y, test_size = 0.2, random_state = 0)\n",
    "\n",
    "#fit the model\n",
    "from sklearn.linear_model import LinearRegression\n",
    "mlr = LinearRegression()\n",
    "mlr.fit(X_train, y_train)\n",
    "\n",
    "#predict the test set results\n",
    "y_pred = mlr.predict(X_test)\n"
   ]
  },
  {
   "cell_type": "code",
   "execution_count": 0,
   "metadata": {
    "colab": {},
    "colab_type": "code",
    "id": "_Mm0bwqjvYlX",
    "outputId": "8e534cad-2135-4df2-ea31-a08ad07bed0c"
   },
   "outputs": [
    {
     "data": {
      "text/plain": [
       "(137447.241059456, 0.8411447538287411, 0.8403617790266322)"
      ]
     },
     "execution_count": 26,
     "metadata": {
      "tags": []
     },
     "output_type": "execute_result"
    }
   ],
   "source": [
    "from sklearn.metrics import mean_squared_error\n",
    "from math import sqrt\n",
    "\n",
    "rmse = sqrt(mean_squared_error(y_test, y_pred))\n",
    "\n",
    "from sklearn.metrics import r2_score\n",
    "r2 = r2_score(y_test, y_pred)\n",
    "\n",
    "adj_r2 = 1 - float(len(y)-1)/(len(y)-len(mlr.coef_)-1)*(1 - r2)\n",
    "\n",
    "rmse, r2, adj_r2"
   ]
  },
  {
   "cell_type": "markdown",
   "metadata": {
    "colab_type": "text",
    "id": "1qlJM4kGvYli"
   },
   "source": [
    "### Feature Selection\n",
    "\n",
    "Feature Extraction: \n",
    "\n",
    "When performing analysis of complex data one of the major problems stems from the number of variables involved. Analysis with a large number of variables generally requires a large amount of memory and computation power, also it may cause algorithm to overfit to training samples and generalize poorly to new samples. Feature extraction is a general term for methods of constructing combinations of the variables to get around these problems while still describing the data with sufficient accuracy\n",
    "\n",
    "    Transform two or more features that perform badly in your model due to possible mutual correlation into a single feature that performs more effectively\n",
    "    PCA (principal component analysis), SVD (singular value decomposition)\n",
    "\n",
    "Feature Selection:\n",
    "\n",
    "    Choose features from the original set based on some criteria like Information Gain, Correlation and Mutual Information. \n",
    "    \n",
    "Out of plenty of feature selection methods available **Tree** based and **Correlation** are most usefull.\n",
    "\n",
    "1. Variance Threshold\n",
    "2. Select K-best (Chi-2)\n",
    "3. Recursive Feature Elimination\n",
    "4. Tree based feature selection\n",
    "\n",
    "http://scikit-learn.org/stable/modules/generated/sklearn.decomposition.PCA.html\n",
    "\n",
    "http://scikit-learn.org/stable/modules/feature_selection.html"
   ]
  },
  {
   "cell_type": "code",
   "execution_count": 0,
   "metadata": {
    "colab": {},
    "colab_type": "code",
    "id": "eE3iWI-BvYlj",
    "outputId": "60429dce-6924-4c2e-8957-357b93899534"
   },
   "outputs": [
    {
     "name": "stderr",
     "output_type": "stream",
     "text": [
      "C:\\Users\\SrivastavA12\\AppData\\Local\\Continuum\\anaconda3\\lib\\site-packages\\sklearn\\ensemble\\forest.py:248: FutureWarning: The default value of n_estimators will change from 10 in version 0.20 to 100 in 0.22.\n",
      "  \"10 in version 0.20 to 100 in 0.22.\", FutureWarning)\n"
     ]
    },
    {
     "data": {
      "text/plain": [
       "array([4.51135199e-02, 5.78542454e-02, 9.05959144e-02, 9.76121174e-02,\n",
       "       8.95136825e-02, 8.61166460e-02, 6.38266863e-02, 1.02289602e-01,\n",
       "       9.22701162e-02, 9.15700079e-02, 9.28441047e-02, 1.27481302e-02,\n",
       "       6.99215944e-03, 1.16293328e-03, 3.89572328e-03, 8.15895185e-03,\n",
       "       4.33218912e-03, 2.04534159e-03, 1.51458349e-03, 9.77013984e-03,\n",
       "       9.91683479e-03, 4.75103699e-03, 5.61258413e-05, 1.65355412e-04,\n",
       "       3.33139382e-04, 6.06894842e-04, 6.76849353e-04, 1.08590917e-03,\n",
       "       1.06025157e-03, 9.85221008e-04, 7.45556401e-04, 3.29833589e-04,\n",
       "       1.11118201e-04, 6.68743937e-03, 9.13256542e-03, 1.52160215e-03,\n",
       "       1.49623972e-03, 1.11232040e-04])"
      ]
     },
     "execution_count": 32,
     "metadata": {
      "tags": []
     },
     "output_type": "execute_result"
    }
   ],
   "source": [
    "df = pd.read_csv('House_data.csv')\n",
    "df.isnull().any()\n",
    "df['basement'] = (df['sqft_basement'] > 0).astype(int)\n",
    "df['renovated'] = (df['yr_renovated'] > 0).astype(int)\n",
    "to_drop = ['id', 'date', 'sqft_basement', 'yr_renovated']\n",
    "df.drop(to_drop, axis = 1, inplace = True)\n",
    "cat_cols = ['waterfront', 'view', 'condition', 'grade', 'floors']\n",
    "df = pd.get_dummies(df, columns = cat_cols, drop_first=True)\n",
    "\n",
    "y = df.iloc[:, 0].values\n",
    "X = df.iloc[:, 1:].values\n",
    "\n",
    "from sklearn.ensemble import ExtraTreesClassifier\n",
    "tree_clf = ExtraTreesClassifier()\n",
    "tree_clf.fit(X, y)\n",
    "\n",
    "tree_clf.feature_importances_\n"
   ]
  },
  {
   "cell_type": "code",
   "execution_count": 0,
   "metadata": {
    "colab": {},
    "colab_type": "code",
    "id": "hamx3QvKvYlp",
    "outputId": "7de94e20-afc2-43d9-e3a2-9812216540dd"
   },
   "outputs": [
    {
     "data": {
      "text/plain": [
       "{'basement': 0.012748130226151585,\n",
       " 'bathrooms': 0.057854245419774665,\n",
       " 'bedrooms': 0.04511351992816055,\n",
       " 'condition_2': 0.0015145834929174986,\n",
       " 'condition_3': 0.009770139841051045,\n",
       " 'condition_4': 0.009916834793038726,\n",
       " 'condition_5': 0.004751036993892806,\n",
       " 'floors_1.5': 0.00668743936959536,\n",
       " 'floors_2.0': 0.00913256541688085,\n",
       " 'floors_2.5': 0.0015216021528787573,\n",
       " 'floors_3.0': 0.0014962397246381805,\n",
       " 'floors_3.5': 0.0001112320397014082,\n",
       " 'grade_10': 0.0009852210079341608,\n",
       " 'grade_11': 0.0007455564011090484,\n",
       " 'grade_12': 0.00032983358865782336,\n",
       " 'grade_13': 0.00011111820107575013,\n",
       " 'grade_3': 5.612584132931351e-05,\n",
       " 'grade_4': 0.00016535541159068602,\n",
       " 'grade_5': 0.00033313938231300784,\n",
       " 'grade_6': 0.0006068948417749091,\n",
       " 'grade_7': 0.0006768493534765674,\n",
       " 'grade_8': 0.001085909172724457,\n",
       " 'grade_9': 0.001060251573515361,\n",
       " 'lat': 0.10228960184452356,\n",
       " 'long': 0.09227011622553587,\n",
       " 'renovated': 0.006992159441931091,\n",
       " 'sqft_above': 0.08951368250035101,\n",
       " 'sqft_living': 0.09059591440385129,\n",
       " 'sqft_living15': 0.09157000787247249,\n",
       " 'sqft_lot': 0.0976121174200075,\n",
       " 'sqft_lot15': 0.09284410473846537,\n",
       " 'view_1': 0.0038957232826381,\n",
       " 'view_2': 0.008158951845668685,\n",
       " 'view_3': 0.0043321891196411964,\n",
       " 'view_4': 0.002045341589194994,\n",
       " 'waterfront_1': 0.0011629332796333721,\n",
       " 'yr_built': 0.08611664596129864,\n",
       " 'zipcode': 0.06382668630060435}"
      ]
     },
     "execution_count": 33,
     "metadata": {
      "tags": []
     },
     "output_type": "execute_result"
    }
   ],
   "source": [
    "importances = tree_clf.feature_importances_\n",
    "feature_names = df.iloc[:, 1:].columns.tolist()\n",
    "feature_names\n",
    "feature_imp_dir = dict(zip(feature_names, importances))\n",
    "features = sorted(feature_imp_dir.items(), key=lambda x: x[1], reverse=True)\n",
    "feature_imp_dir"
   ]
  },
  {
   "cell_type": "code",
   "execution_count": 0,
   "metadata": {
    "colab": {
     "base_uri": "https://localhost:8080/",
     "height": 189
    },
    "colab_type": "code",
    "id": "gurlZ9y7vYl0",
    "outputId": "3125976c-0750-45e5-bed1-8c573d8185b9"
   },
   "outputs": [
    {
     "ename": "NameError",
     "evalue": "ignored",
     "output_type": "error",
     "traceback": [
      "\u001b[0;31m---------------------------------------------------------------------------\u001b[0m",
      "\u001b[0;31mNameError\u001b[0m                                 Traceback (most recent call last)",
      "\u001b[0;32m<ipython-input-2-f3adb46c28f3>\u001b[0m in \u001b[0;36m<module>\u001b[0;34m()\u001b[0m\n\u001b[0;32m----> 1\u001b[0;31m \u001b[0mplt\u001b[0m\u001b[0;34m.\u001b[0m\u001b[0mbar\u001b[0m\u001b[0;34m(\u001b[0m\u001b[0mrange\u001b[0m\u001b[0;34m(\u001b[0m\u001b[0mlen\u001b[0m\u001b[0;34m(\u001b[0m\u001b[0mfeatures\u001b[0m\u001b[0;34m)\u001b[0m\u001b[0;34m)\u001b[0m\u001b[0;34m,\u001b[0m \u001b[0;34m[\u001b[0m\u001b[0mimp\u001b[0m\u001b[0;34m[\u001b[0m\u001b[0;36m1\u001b[0m\u001b[0;34m]\u001b[0m \u001b[0;32mfor\u001b[0m \u001b[0mimp\u001b[0m \u001b[0;32min\u001b[0m \u001b[0mfeatures\u001b[0m\u001b[0;34m]\u001b[0m\u001b[0;34m,\u001b[0m \u001b[0malign\u001b[0m\u001b[0;34m=\u001b[0m\u001b[0;34m'center'\u001b[0m\u001b[0;34m)\u001b[0m\u001b[0;34m\u001b[0m\u001b[0;34m\u001b[0m\u001b[0m\n\u001b[0m\u001b[1;32m      2\u001b[0m \u001b[0mplt\u001b[0m\u001b[0;34m.\u001b[0m\u001b[0mtitle\u001b[0m\u001b[0;34m(\u001b[0m\u001b[0;34m'important features in house data'\u001b[0m\u001b[0;34m)\u001b[0m\u001b[0;34m;\u001b[0m\u001b[0;34m\u001b[0m\u001b[0;34m\u001b[0m\u001b[0m\n",
      "\u001b[0;31mNameError\u001b[0m: name 'plt' is not defined"
     ]
    }
   ],
   "source": [
    "plt.bar(range(len(features)), [imp[1] for imp in features], align='center')\n",
    "plt.title('important features in house data');"
   ]
  },
  {
   "cell_type": "code",
   "execution_count": 0,
   "metadata": {
    "colab": {},
    "colab_type": "code",
    "id": "trb4D9LAvYl4",
    "outputId": "7d7d9449-0146-4a05-8747-b33a3b1c14b0"
   },
   "outputs": [
    {
     "name": "stdout",
     "output_type": "stream",
     "text": [
      "Total Features count: 38\n",
      "Selected Features:  11\n"
     ]
    }
   ],
   "source": [
    "from sklearn.feature_selection import SelectFromModel\n",
    "abc = SelectFromModel(tree_clf, prefit = True)\n",
    "x_updated = abc.transform(X)\n",
    "print('Total Features count:', np.array(X).shape[1])\n",
    "print('Selected Features: ' ,np.array(x_updated).shape[1])"
   ]
  },
  {
   "cell_type": "code",
   "execution_count": 0,
   "metadata": {
    "colab": {},
    "colab_type": "code",
    "id": "FUA39LNFvYl-",
    "outputId": "9c708419-85c5-42de-c5d8-8b4afb2d3d36"
   },
   "outputs": [
    {
     "data": {
      "text/plain": [
       "array([[ 3.00000e+00,  1.00000e+00,  1.18000e+03,  5.65000e+03,\n",
       "         1.18000e+03,  1.95500e+03,  9.81780e+04,  4.75112e+01,\n",
       "        -1.22257e+02,  1.34000e+03,  5.65000e+03,  0.00000e+00,\n",
       "         0.00000e+00,  0.00000e+00,  0.00000e+00,  0.00000e+00,\n",
       "         0.00000e+00,  0.00000e+00,  0.00000e+00,  1.00000e+00,\n",
       "         0.00000e+00,  0.00000e+00,  0.00000e+00,  0.00000e+00,\n",
       "         0.00000e+00,  0.00000e+00,  1.00000e+00,  0.00000e+00,\n",
       "         0.00000e+00,  0.00000e+00,  0.00000e+00,  0.00000e+00,\n",
       "         0.00000e+00,  0.00000e+00,  0.00000e+00,  0.00000e+00,\n",
       "         0.00000e+00,  0.00000e+00],\n",
       "       [ 3.00000e+00,  2.25000e+00,  2.57000e+03,  7.24200e+03,\n",
       "         2.17000e+03,  1.95100e+03,  9.81250e+04,  4.77210e+01,\n",
       "        -1.22319e+02,  1.69000e+03,  7.63900e+03,  1.00000e+00,\n",
       "         1.00000e+00,  0.00000e+00,  0.00000e+00,  0.00000e+00,\n",
       "         0.00000e+00,  0.00000e+00,  0.00000e+00,  1.00000e+00,\n",
       "         0.00000e+00,  0.00000e+00,  0.00000e+00,  0.00000e+00,\n",
       "         0.00000e+00,  0.00000e+00,  1.00000e+00,  0.00000e+00,\n",
       "         0.00000e+00,  0.00000e+00,  0.00000e+00,  0.00000e+00,\n",
       "         0.00000e+00,  0.00000e+00,  1.00000e+00,  0.00000e+00,\n",
       "         0.00000e+00,  0.00000e+00]])"
      ]
     },
     "execution_count": 36,
     "metadata": {
      "tags": []
     },
     "output_type": "execute_result"
    }
   ],
   "source": [
    "X[:2]"
   ]
  },
  {
   "cell_type": "code",
   "execution_count": 0,
   "metadata": {
    "colab": {},
    "colab_type": "code",
    "id": "x6dZLC-nvYmD",
    "outputId": "cce4daaf-a7f1-4504-9afe-de3f01744de9"
   },
   "outputs": [
    {
     "data": {
      "text/plain": [
       "array([[ 3.00000e+00,  1.00000e+00,  1.18000e+03,  5.65000e+03,\n",
       "         1.18000e+03,  1.95500e+03,  9.81780e+04,  4.75112e+01,\n",
       "        -1.22257e+02,  1.34000e+03,  5.65000e+03],\n",
       "       [ 3.00000e+00,  2.25000e+00,  2.57000e+03,  7.24200e+03,\n",
       "         2.17000e+03,  1.95100e+03,  9.81250e+04,  4.77210e+01,\n",
       "        -1.22319e+02,  1.69000e+03,  7.63900e+03],\n",
       "       [ 2.00000e+00,  1.00000e+00,  7.70000e+02,  1.00000e+04,\n",
       "         7.70000e+02,  1.93300e+03,  9.80280e+04,  4.77379e+01,\n",
       "        -1.22233e+02,  2.72000e+03,  8.06200e+03],\n",
       "       [ 4.00000e+00,  3.00000e+00,  1.96000e+03,  5.00000e+03,\n",
       "         1.05000e+03,  1.96500e+03,  9.81360e+04,  4.75208e+01,\n",
       "        -1.22393e+02,  1.36000e+03,  5.00000e+03],\n",
       "       [ 3.00000e+00,  2.00000e+00,  1.68000e+03,  8.08000e+03,\n",
       "         1.68000e+03,  1.98700e+03,  9.80740e+04,  4.76168e+01,\n",
       "        -1.22045e+02,  1.80000e+03,  7.50300e+03]])"
      ]
     },
     "execution_count": 37,
     "metadata": {
      "tags": []
     },
     "output_type": "execute_result"
    }
   ],
   "source": [
    "x_updated[:5]"
   ]
  },
  {
   "cell_type": "code",
   "execution_count": 0,
   "metadata": {
    "colab": {},
    "colab_type": "code",
    "id": "nSnk8wGmvYmH",
    "outputId": "dbd49679-91c6-45f2-bebc-de71101b6df5"
   },
   "outputs": [
    {
     "data": {
      "text/plain": [
       "152335.56053853413"
      ]
     },
     "execution_count": 38,
     "metadata": {
      "tags": []
     },
     "output_type": "execute_result"
    }
   ],
   "source": [
    "y = df.iloc[:, 0].values\n",
    "\n",
    "#split dataset into train and test\n",
    "from sklearn.model_selection import train_test_split\n",
    "X_train, X_test, y_train, y_test = train_test_split(x_updated, y, test_size = 0.2, random_state = 0)\n",
    "\n",
    "from sklearn.preprocessing import StandardScaler\n",
    "scaler = StandardScaler().fit(X_train)\n",
    "X_train = scaler.transform(X_train)\n",
    "X_test = scaler.transform(X_test)\n",
    "\n"
   ]
  },
  {
   "cell_type": "code",
   "execution_count": 0,
   "metadata": {
    "colab": {},
    "colab_type": "code",
    "id": "BcMsqWz8vYmi",
    "outputId": "ee1a37e6-8037-47fe-e1c3-28350c345972"
   },
   "outputs": [
    {
     "data": {
      "text/plain": [
       "211218.05216062613"
      ]
     },
     "execution_count": 39,
     "metadata": {
      "tags": []
     },
     "output_type": "execute_result"
    }
   ],
   "source": [
    "#fit the model\n",
    "from sklearn.linear_model import LinearRegression\n",
    "mlr = LinearRegression()\n",
    "mlr.fit(X_train, y_train)\n",
    "\n",
    "#predict the test set results\n",
    "y_pred_lr = mlr.predict(X_test)\n",
    "sqrt(mean_squared_error(y_test, y_pred_lr))"
   ]
  },
  {
   "cell_type": "code",
   "execution_count": 0,
   "metadata": {
    "colab": {},
    "colab_type": "code",
    "id": "2yeVATQtvYmo",
    "outputId": "c150931b-e845-4d01-ae03-4ff0f3669f86"
   },
   "outputs": [
    {
     "data": {
      "text/plain": [
       "(0.6248615541438001, 0.8048663814220858)"
      ]
     },
     "execution_count": 40,
     "metadata": {
      "tags": []
     },
     "output_type": "execute_result"
    }
   ],
   "source": [
    "from sklearn.metrics import r2_score\n",
    "r2_lr = r2_score(y_test, y_pred_lr)\n",
    "\n",
    "r2_knn=r2_score(y_test, y_pred_knn)\n",
    "r2_lr, r2_knn"
   ]
  },
  {
   "cell_type": "markdown",
   "metadata": {
    "colab_type": "text",
    "collapsed": true,
    "id": "xCnMLWtjvYmq"
   },
   "source": [
    "### Estimating total Interactions for facebook dataset"
   ]
  },
  {
   "cell_type": "code",
   "execution_count": 0,
   "metadata": {
    "colab": {
     "base_uri": "https://localhost:8080/",
     "height": 824
    },
    "colab_type": "code",
    "id": "NntkewXOvYmr",
    "outputId": "530c6f5f-768a-4e18-f87e-1b7cecf180fd"
   },
   "outputs": [
    {
     "data": {
      "text/html": [
       "<div>\n",
       "<style scoped>\n",
       "    .dataframe tbody tr th:only-of-type {\n",
       "        vertical-align: middle;\n",
       "    }\n",
       "\n",
       "    .dataframe tbody tr th {\n",
       "        vertical-align: top;\n",
       "    }\n",
       "\n",
       "    .dataframe thead th {\n",
       "        text-align: right;\n",
       "    }\n",
       "</style>\n",
       "<table border=\"1\" class=\"dataframe\">\n",
       "  <thead>\n",
       "    <tr style=\"text-align: right;\">\n",
       "      <th></th>\n",
       "      <th>Page total likes</th>\n",
       "      <th>Type</th>\n",
       "      <th>Category</th>\n",
       "      <th>Post Month</th>\n",
       "      <th>Post Weekday</th>\n",
       "      <th>Post Hour</th>\n",
       "      <th>Paid</th>\n",
       "      <th>Lifetime Post Total Reach</th>\n",
       "      <th>Lifetime Post Total Impressions</th>\n",
       "      <th>Lifetime Engaged Users</th>\n",
       "      <th>Lifetime Post Consumers</th>\n",
       "      <th>Lifetime Post Consumptions</th>\n",
       "      <th>Lifetime Post Impressions by people who have liked your Page</th>\n",
       "      <th>Lifetime Post reach by people who like your Page</th>\n",
       "      <th>Lifetime People who have liked your Page and engaged with your post</th>\n",
       "      <th>comment</th>\n",
       "      <th>like</th>\n",
       "      <th>share</th>\n",
       "      <th>Total Interactions</th>\n",
       "    </tr>\n",
       "  </thead>\n",
       "  <tbody>\n",
       "    <tr>\n",
       "      <th>0</th>\n",
       "      <td>139441</td>\n",
       "      <td>Photo</td>\n",
       "      <td>2</td>\n",
       "      <td>12</td>\n",
       "      <td>4</td>\n",
       "      <td>3</td>\n",
       "      <td>0.0</td>\n",
       "      <td>2752</td>\n",
       "      <td>5091</td>\n",
       "      <td>178</td>\n",
       "      <td>109</td>\n",
       "      <td>159</td>\n",
       "      <td>3078</td>\n",
       "      <td>1640</td>\n",
       "      <td>119</td>\n",
       "      <td>4</td>\n",
       "      <td>79.0</td>\n",
       "      <td>17.0</td>\n",
       "      <td>100</td>\n",
       "    </tr>\n",
       "    <tr>\n",
       "      <th>1</th>\n",
       "      <td>139441</td>\n",
       "      <td>Status</td>\n",
       "      <td>2</td>\n",
       "      <td>12</td>\n",
       "      <td>3</td>\n",
       "      <td>10</td>\n",
       "      <td>0.0</td>\n",
       "      <td>10460</td>\n",
       "      <td>19057</td>\n",
       "      <td>1457</td>\n",
       "      <td>1361</td>\n",
       "      <td>1674</td>\n",
       "      <td>11710</td>\n",
       "      <td>6112</td>\n",
       "      <td>1108</td>\n",
       "      <td>5</td>\n",
       "      <td>130.0</td>\n",
       "      <td>29.0</td>\n",
       "      <td>164</td>\n",
       "    </tr>\n",
       "    <tr>\n",
       "      <th>2</th>\n",
       "      <td>139441</td>\n",
       "      <td>Photo</td>\n",
       "      <td>3</td>\n",
       "      <td>12</td>\n",
       "      <td>3</td>\n",
       "      <td>3</td>\n",
       "      <td>0.0</td>\n",
       "      <td>2413</td>\n",
       "      <td>4373</td>\n",
       "      <td>177</td>\n",
       "      <td>113</td>\n",
       "      <td>154</td>\n",
       "      <td>2812</td>\n",
       "      <td>1503</td>\n",
       "      <td>132</td>\n",
       "      <td>0</td>\n",
       "      <td>66.0</td>\n",
       "      <td>14.0</td>\n",
       "      <td>80</td>\n",
       "    </tr>\n",
       "    <tr>\n",
       "      <th>3</th>\n",
       "      <td>139441</td>\n",
       "      <td>Photo</td>\n",
       "      <td>2</td>\n",
       "      <td>12</td>\n",
       "      <td>2</td>\n",
       "      <td>10</td>\n",
       "      <td>1.0</td>\n",
       "      <td>50128</td>\n",
       "      <td>87991</td>\n",
       "      <td>2211</td>\n",
       "      <td>790</td>\n",
       "      <td>1119</td>\n",
       "      <td>61027</td>\n",
       "      <td>32048</td>\n",
       "      <td>1386</td>\n",
       "      <td>58</td>\n",
       "      <td>1572.0</td>\n",
       "      <td>147.0</td>\n",
       "      <td>1777</td>\n",
       "    </tr>\n",
       "    <tr>\n",
       "      <th>4</th>\n",
       "      <td>139441</td>\n",
       "      <td>Photo</td>\n",
       "      <td>2</td>\n",
       "      <td>12</td>\n",
       "      <td>2</td>\n",
       "      <td>3</td>\n",
       "      <td>0.0</td>\n",
       "      <td>7244</td>\n",
       "      <td>13594</td>\n",
       "      <td>671</td>\n",
       "      <td>410</td>\n",
       "      <td>580</td>\n",
       "      <td>6228</td>\n",
       "      <td>3200</td>\n",
       "      <td>396</td>\n",
       "      <td>19</td>\n",
       "      <td>325.0</td>\n",
       "      <td>49.0</td>\n",
       "      <td>393</td>\n",
       "    </tr>\n",
       "    <tr>\n",
       "      <th>5</th>\n",
       "      <td>139441</td>\n",
       "      <td>Status</td>\n",
       "      <td>2</td>\n",
       "      <td>12</td>\n",
       "      <td>1</td>\n",
       "      <td>9</td>\n",
       "      <td>0.0</td>\n",
       "      <td>10472</td>\n",
       "      <td>20849</td>\n",
       "      <td>1191</td>\n",
       "      <td>1073</td>\n",
       "      <td>1389</td>\n",
       "      <td>16034</td>\n",
       "      <td>7852</td>\n",
       "      <td>1016</td>\n",
       "      <td>1</td>\n",
       "      <td>152.0</td>\n",
       "      <td>33.0</td>\n",
       "      <td>186</td>\n",
       "    </tr>\n",
       "    <tr>\n",
       "      <th>6</th>\n",
       "      <td>139441</td>\n",
       "      <td>Photo</td>\n",
       "      <td>3</td>\n",
       "      <td>12</td>\n",
       "      <td>1</td>\n",
       "      <td>3</td>\n",
       "      <td>1.0</td>\n",
       "      <td>11692</td>\n",
       "      <td>19479</td>\n",
       "      <td>481</td>\n",
       "      <td>265</td>\n",
       "      <td>364</td>\n",
       "      <td>15432</td>\n",
       "      <td>9328</td>\n",
       "      <td>379</td>\n",
       "      <td>3</td>\n",
       "      <td>249.0</td>\n",
       "      <td>27.0</td>\n",
       "      <td>279</td>\n",
       "    </tr>\n",
       "    <tr>\n",
       "      <th>7</th>\n",
       "      <td>139441</td>\n",
       "      <td>Photo</td>\n",
       "      <td>3</td>\n",
       "      <td>12</td>\n",
       "      <td>7</td>\n",
       "      <td>9</td>\n",
       "      <td>1.0</td>\n",
       "      <td>13720</td>\n",
       "      <td>24137</td>\n",
       "      <td>537</td>\n",
       "      <td>232</td>\n",
       "      <td>305</td>\n",
       "      <td>19728</td>\n",
       "      <td>11056</td>\n",
       "      <td>422</td>\n",
       "      <td>0</td>\n",
       "      <td>325.0</td>\n",
       "      <td>14.0</td>\n",
       "      <td>339</td>\n",
       "    </tr>\n",
       "    <tr>\n",
       "      <th>8</th>\n",
       "      <td>139441</td>\n",
       "      <td>Status</td>\n",
       "      <td>2</td>\n",
       "      <td>12</td>\n",
       "      <td>7</td>\n",
       "      <td>3</td>\n",
       "      <td>0.0</td>\n",
       "      <td>11844</td>\n",
       "      <td>22538</td>\n",
       "      <td>1530</td>\n",
       "      <td>1407</td>\n",
       "      <td>1692</td>\n",
       "      <td>15220</td>\n",
       "      <td>7912</td>\n",
       "      <td>1250</td>\n",
       "      <td>0</td>\n",
       "      <td>161.0</td>\n",
       "      <td>31.0</td>\n",
       "      <td>192</td>\n",
       "    </tr>\n",
       "    <tr>\n",
       "      <th>9</th>\n",
       "      <td>139441</td>\n",
       "      <td>Photo</td>\n",
       "      <td>3</td>\n",
       "      <td>12</td>\n",
       "      <td>6</td>\n",
       "      <td>10</td>\n",
       "      <td>0.0</td>\n",
       "      <td>4694</td>\n",
       "      <td>8668</td>\n",
       "      <td>280</td>\n",
       "      <td>183</td>\n",
       "      <td>250</td>\n",
       "      <td>4309</td>\n",
       "      <td>2324</td>\n",
       "      <td>199</td>\n",
       "      <td>3</td>\n",
       "      <td>113.0</td>\n",
       "      <td>26.0</td>\n",
       "      <td>142</td>\n",
       "    </tr>\n",
       "    <tr>\n",
       "      <th>10</th>\n",
       "      <td>139441</td>\n",
       "      <td>Status</td>\n",
       "      <td>2</td>\n",
       "      <td>12</td>\n",
       "      <td>5</td>\n",
       "      <td>10</td>\n",
       "      <td>0.0</td>\n",
       "      <td>21744</td>\n",
       "      <td>42334</td>\n",
       "      <td>4258</td>\n",
       "      <td>4100</td>\n",
       "      <td>4540</td>\n",
       "      <td>37849</td>\n",
       "      <td>18952</td>\n",
       "      <td>3798</td>\n",
       "      <td>0</td>\n",
       "      <td>233.0</td>\n",
       "      <td>19.0</td>\n",
       "      <td>252</td>\n",
       "    </tr>\n",
       "    <tr>\n",
       "      <th>11</th>\n",
       "      <td>139441</td>\n",
       "      <td>Photo</td>\n",
       "      <td>2</td>\n",
       "      <td>12</td>\n",
       "      <td>5</td>\n",
       "      <td>10</td>\n",
       "      <td>0.0</td>\n",
       "      <td>3112</td>\n",
       "      <td>5590</td>\n",
       "      <td>208</td>\n",
       "      <td>127</td>\n",
       "      <td>145</td>\n",
       "      <td>3887</td>\n",
       "      <td>2174</td>\n",
       "      <td>165</td>\n",
       "      <td>0</td>\n",
       "      <td>88.0</td>\n",
       "      <td>18.0</td>\n",
       "      <td>106</td>\n",
       "    </tr>\n",
       "    <tr>\n",
       "      <th>12</th>\n",
       "      <td>139441</td>\n",
       "      <td>Photo</td>\n",
       "      <td>2</td>\n",
       "      <td>12</td>\n",
       "      <td>5</td>\n",
       "      <td>10</td>\n",
       "      <td>0.0</td>\n",
       "      <td>2847</td>\n",
       "      <td>5133</td>\n",
       "      <td>193</td>\n",
       "      <td>115</td>\n",
       "      <td>133</td>\n",
       "      <td>3779</td>\n",
       "      <td>2072</td>\n",
       "      <td>152</td>\n",
       "      <td>0</td>\n",
       "      <td>90.0</td>\n",
       "      <td>14.0</td>\n",
       "      <td>104</td>\n",
       "    </tr>\n",
       "    <tr>\n",
       "      <th>13</th>\n",
       "      <td>139441</td>\n",
       "      <td>Photo</td>\n",
       "      <td>2</td>\n",
       "      <td>12</td>\n",
       "      <td>5</td>\n",
       "      <td>3</td>\n",
       "      <td>0.0</td>\n",
       "      <td>2549</td>\n",
       "      <td>4896</td>\n",
       "      <td>249</td>\n",
       "      <td>134</td>\n",
       "      <td>168</td>\n",
       "      <td>3631</td>\n",
       "      <td>1917</td>\n",
       "      <td>183</td>\n",
       "      <td>5</td>\n",
       "      <td>137.0</td>\n",
       "      <td>10.0</td>\n",
       "      <td>152</td>\n",
       "    </tr>\n",
       "    <tr>\n",
       "      <th>14</th>\n",
       "      <td>138414</td>\n",
       "      <td>Photo</td>\n",
       "      <td>2</td>\n",
       "      <td>12</td>\n",
       "      <td>4</td>\n",
       "      <td>5</td>\n",
       "      <td>1.0</td>\n",
       "      <td>22784</td>\n",
       "      <td>39941</td>\n",
       "      <td>887</td>\n",
       "      <td>337</td>\n",
       "      <td>417</td>\n",
       "      <td>34415</td>\n",
       "      <td>19312</td>\n",
       "      <td>684</td>\n",
       "      <td>2</td>\n",
       "      <td>577.0</td>\n",
       "      <td>20.0</td>\n",
       "      <td>599</td>\n",
       "    </tr>\n",
       "    <tr>\n",
       "      <th>15</th>\n",
       "      <td>138414</td>\n",
       "      <td>Status</td>\n",
       "      <td>2</td>\n",
       "      <td>12</td>\n",
       "      <td>3</td>\n",
       "      <td>10</td>\n",
       "      <td>0.0</td>\n",
       "      <td>10060</td>\n",
       "      <td>19680</td>\n",
       "      <td>1264</td>\n",
       "      <td>1209</td>\n",
       "      <td>1425</td>\n",
       "      <td>17272</td>\n",
       "      <td>8548</td>\n",
       "      <td>1162</td>\n",
       "      <td>4</td>\n",
       "      <td>86.0</td>\n",
       "      <td>18.0</td>\n",
       "      <td>108</td>\n",
       "    </tr>\n",
       "    <tr>\n",
       "      <th>16</th>\n",
       "      <td>138414</td>\n",
       "      <td>Photo</td>\n",
       "      <td>3</td>\n",
       "      <td>12</td>\n",
       "      <td>3</td>\n",
       "      <td>3</td>\n",
       "      <td>0.0</td>\n",
       "      <td>1722</td>\n",
       "      <td>2981</td>\n",
       "      <td>163</td>\n",
       "      <td>123</td>\n",
       "      <td>148</td>\n",
       "      <td>1868</td>\n",
       "      <td>1050</td>\n",
       "      <td>123</td>\n",
       "      <td>2</td>\n",
       "      <td>40.0</td>\n",
       "      <td>12.0</td>\n",
       "      <td>54</td>\n",
       "    </tr>\n",
       "    <tr>\n",
       "      <th>17</th>\n",
       "      <td>138414</td>\n",
       "      <td>Photo</td>\n",
       "      <td>1</td>\n",
       "      <td>12</td>\n",
       "      <td>2</td>\n",
       "      <td>12</td>\n",
       "      <td>1.0</td>\n",
       "      <td>53264</td>\n",
       "      <td>111785</td>\n",
       "      <td>1706</td>\n",
       "      <td>1103</td>\n",
       "      <td>1655</td>\n",
       "      <td>92512</td>\n",
       "      <td>39776</td>\n",
       "      <td>1307</td>\n",
       "      <td>15</td>\n",
       "      <td>678.0</td>\n",
       "      <td>20.0</td>\n",
       "      <td>713</td>\n",
       "    </tr>\n",
       "    <tr>\n",
       "      <th>18</th>\n",
       "      <td>138414</td>\n",
       "      <td>Status</td>\n",
       "      <td>3</td>\n",
       "      <td>12</td>\n",
       "      <td>2</td>\n",
       "      <td>3</td>\n",
       "      <td>0.0</td>\n",
       "      <td>3930</td>\n",
       "      <td>7509</td>\n",
       "      <td>130</td>\n",
       "      <td>86</td>\n",
       "      <td>112</td>\n",
       "      <td>5009</td>\n",
       "      <td>2410</td>\n",
       "      <td>101</td>\n",
       "      <td>4</td>\n",
       "      <td>54.0</td>\n",
       "      <td>17.0</td>\n",
       "      <td>75</td>\n",
       "    </tr>\n",
       "    <tr>\n",
       "      <th>19</th>\n",
       "      <td>138414</td>\n",
       "      <td>Photo</td>\n",
       "      <td>3</td>\n",
       "      <td>12</td>\n",
       "      <td>1</td>\n",
       "      <td>11</td>\n",
       "      <td>0.0</td>\n",
       "      <td>1591</td>\n",
       "      <td>2825</td>\n",
       "      <td>121</td>\n",
       "      <td>88</td>\n",
       "      <td>111</td>\n",
       "      <td>2116</td>\n",
       "      <td>1161</td>\n",
       "      <td>100</td>\n",
       "      <td>0</td>\n",
       "      <td>34.0</td>\n",
       "      <td>8.0</td>\n",
       "      <td>42</td>\n",
       "    </tr>\n",
       "  </tbody>\n",
       "</table>\n",
       "</div>"
      ],
      "text/plain": [
       "    Page total likes    Type  Category  Post Month  Post Weekday  Post Hour  \\\n",
       "0             139441   Photo         2          12             4          3   \n",
       "1             139441  Status         2          12             3         10   \n",
       "2             139441   Photo         3          12             3          3   \n",
       "3             139441   Photo         2          12             2         10   \n",
       "4             139441   Photo         2          12             2          3   \n",
       "5             139441  Status         2          12             1          9   \n",
       "6             139441   Photo         3          12             1          3   \n",
       "7             139441   Photo         3          12             7          9   \n",
       "8             139441  Status         2          12             7          3   \n",
       "9             139441   Photo         3          12             6         10   \n",
       "10            139441  Status         2          12             5         10   \n",
       "11            139441   Photo         2          12             5         10   \n",
       "12            139441   Photo         2          12             5         10   \n",
       "13            139441   Photo         2          12             5          3   \n",
       "14            138414   Photo         2          12             4          5   \n",
       "15            138414  Status         2          12             3         10   \n",
       "16            138414   Photo         3          12             3          3   \n",
       "17            138414   Photo         1          12             2         12   \n",
       "18            138414  Status         3          12             2          3   \n",
       "19            138414   Photo         3          12             1         11   \n",
       "\n",
       "    Paid  Lifetime Post Total Reach  Lifetime Post Total Impressions  \\\n",
       "0    0.0                       2752                             5091   \n",
       "1    0.0                      10460                            19057   \n",
       "2    0.0                       2413                             4373   \n",
       "3    1.0                      50128                            87991   \n",
       "4    0.0                       7244                            13594   \n",
       "5    0.0                      10472                            20849   \n",
       "6    1.0                      11692                            19479   \n",
       "7    1.0                      13720                            24137   \n",
       "8    0.0                      11844                            22538   \n",
       "9    0.0                       4694                             8668   \n",
       "10   0.0                      21744                            42334   \n",
       "11   0.0                       3112                             5590   \n",
       "12   0.0                       2847                             5133   \n",
       "13   0.0                       2549                             4896   \n",
       "14   1.0                      22784                            39941   \n",
       "15   0.0                      10060                            19680   \n",
       "16   0.0                       1722                             2981   \n",
       "17   1.0                      53264                           111785   \n",
       "18   0.0                       3930                             7509   \n",
       "19   0.0                       1591                             2825   \n",
       "\n",
       "    Lifetime Engaged Users  Lifetime Post Consumers  \\\n",
       "0                      178                      109   \n",
       "1                     1457                     1361   \n",
       "2                      177                      113   \n",
       "3                     2211                      790   \n",
       "4                      671                      410   \n",
       "5                     1191                     1073   \n",
       "6                      481                      265   \n",
       "7                      537                      232   \n",
       "8                     1530                     1407   \n",
       "9                      280                      183   \n",
       "10                    4258                     4100   \n",
       "11                     208                      127   \n",
       "12                     193                      115   \n",
       "13                     249                      134   \n",
       "14                     887                      337   \n",
       "15                    1264                     1209   \n",
       "16                     163                      123   \n",
       "17                    1706                     1103   \n",
       "18                     130                       86   \n",
       "19                     121                       88   \n",
       "\n",
       "    Lifetime Post Consumptions  \\\n",
       "0                          159   \n",
       "1                         1674   \n",
       "2                          154   \n",
       "3                         1119   \n",
       "4                          580   \n",
       "5                         1389   \n",
       "6                          364   \n",
       "7                          305   \n",
       "8                         1692   \n",
       "9                          250   \n",
       "10                        4540   \n",
       "11                         145   \n",
       "12                         133   \n",
       "13                         168   \n",
       "14                         417   \n",
       "15                        1425   \n",
       "16                         148   \n",
       "17                        1655   \n",
       "18                         112   \n",
       "19                         111   \n",
       "\n",
       "    Lifetime Post Impressions by people who have liked your Page  \\\n",
       "0                                                3078              \n",
       "1                                               11710              \n",
       "2                                                2812              \n",
       "3                                               61027              \n",
       "4                                                6228              \n",
       "5                                               16034              \n",
       "6                                               15432              \n",
       "7                                               19728              \n",
       "8                                               15220              \n",
       "9                                                4309              \n",
       "10                                              37849              \n",
       "11                                               3887              \n",
       "12                                               3779              \n",
       "13                                               3631              \n",
       "14                                              34415              \n",
       "15                                              17272              \n",
       "16                                               1868              \n",
       "17                                              92512              \n",
       "18                                               5009              \n",
       "19                                               2116              \n",
       "\n",
       "    Lifetime Post reach by people who like your Page  \\\n",
       "0                                               1640   \n",
       "1                                               6112   \n",
       "2                                               1503   \n",
       "3                                              32048   \n",
       "4                                               3200   \n",
       "5                                               7852   \n",
       "6                                               9328   \n",
       "7                                              11056   \n",
       "8                                               7912   \n",
       "9                                               2324   \n",
       "10                                             18952   \n",
       "11                                              2174   \n",
       "12                                              2072   \n",
       "13                                              1917   \n",
       "14                                             19312   \n",
       "15                                              8548   \n",
       "16                                              1050   \n",
       "17                                             39776   \n",
       "18                                              2410   \n",
       "19                                              1161   \n",
       "\n",
       "    Lifetime People who have liked your Page and engaged with your post  \\\n",
       "0                                                 119                     \n",
       "1                                                1108                     \n",
       "2                                                 132                     \n",
       "3                                                1386                     \n",
       "4                                                 396                     \n",
       "5                                                1016                     \n",
       "6                                                 379                     \n",
       "7                                                 422                     \n",
       "8                                                1250                     \n",
       "9                                                 199                     \n",
       "10                                               3798                     \n",
       "11                                                165                     \n",
       "12                                                152                     \n",
       "13                                                183                     \n",
       "14                                                684                     \n",
       "15                                               1162                     \n",
       "16                                                123                     \n",
       "17                                               1307                     \n",
       "18                                                101                     \n",
       "19                                                100                     \n",
       "\n",
       "    comment    like  share  Total Interactions  \n",
       "0         4    79.0   17.0                 100  \n",
       "1         5   130.0   29.0                 164  \n",
       "2         0    66.0   14.0                  80  \n",
       "3        58  1572.0  147.0                1777  \n",
       "4        19   325.0   49.0                 393  \n",
       "5         1   152.0   33.0                 186  \n",
       "6         3   249.0   27.0                 279  \n",
       "7         0   325.0   14.0                 339  \n",
       "8         0   161.0   31.0                 192  \n",
       "9         3   113.0   26.0                 142  \n",
       "10        0   233.0   19.0                 252  \n",
       "11        0    88.0   18.0                 106  \n",
       "12        0    90.0   14.0                 104  \n",
       "13        5   137.0   10.0                 152  \n",
       "14        2   577.0   20.0                 599  \n",
       "15        4    86.0   18.0                 108  \n",
       "16        2    40.0   12.0                  54  \n",
       "17       15   678.0   20.0                 713  \n",
       "18        4    54.0   17.0                  75  \n",
       "19        0    34.0    8.0                  42  "
      ]
     },
     "execution_count": 4,
     "metadata": {
      "tags": []
     },
     "output_type": "execute_result"
    }
   ],
   "source": [
    "# load the facebook dataset\n",
    "df = pd.read_csv('dataset_Facebook.csv', sep=';')\n",
    "# print the head of the dataframe\n",
    "df.head(20)"
   ]
  },
  {
   "cell_type": "code",
   "execution_count": 0,
   "metadata": {
    "colab": {
     "base_uri": "https://localhost:8080/",
     "height": 381
    },
    "colab_type": "code",
    "id": "QBQluZ83vYmt",
    "outputId": "db5f99dc-e541-44de-e85f-12b7f30b6373"
   },
   "outputs": [
    {
     "data": {
      "text/plain": [
       "Page total likes                                                       False\n",
       "Type                                                                   False\n",
       "Category                                                               False\n",
       "Post Month                                                             False\n",
       "Post Weekday                                                           False\n",
       "Post Hour                                                              False\n",
       "Paid                                                                    True\n",
       "Lifetime Post Total Reach                                              False\n",
       "Lifetime Post Total Impressions                                        False\n",
       "Lifetime Engaged Users                                                 False\n",
       "Lifetime Post Consumers                                                False\n",
       "Lifetime Post Consumptions                                             False\n",
       "Lifetime Post Impressions by people who have liked your Page           False\n",
       "Lifetime Post reach by people who like your Page                       False\n",
       "Lifetime People who have liked your Page and engaged with your post    False\n",
       "comment                                                                False\n",
       "like                                                                    True\n",
       "share                                                                   True\n",
       "Total Interactions                                                     False\n",
       "dtype: bool"
      ]
     },
     "execution_count": 5,
     "metadata": {
      "tags": []
     },
     "output_type": "execute_result"
    }
   ],
   "source": [
    "df.isnull().any()"
   ]
  },
  {
   "cell_type": "code",
   "execution_count": 0,
   "metadata": {
    "colab": {
     "base_uri": "https://localhost:8080/",
     "height": 35
    },
    "colab_type": "code",
    "id": "0jTmCPKKvYmx",
    "outputId": "bee6a530-f4f9-45c1-c828-fbd7237bf685"
   },
   "outputs": [
    {
     "data": {
      "text/plain": [
       "1"
      ]
     },
     "execution_count": 6,
     "metadata": {
      "tags": []
     },
     "output_type": "execute_result"
    }
   ],
   "source": [
    "pd.isnull(df['Paid']).sum()\n"
   ]
  },
  {
   "cell_type": "code",
   "execution_count": 0,
   "metadata": {
    "colab": {
     "base_uri": "https://localhost:8080/",
     "height": 381
    },
    "colab_type": "code",
    "id": "juH39on8vYm1",
    "outputId": "ac25b9c9-6b72-4744-efd5-9edf2609e0eb"
   },
   "outputs": [
    {
     "data": {
      "text/plain": [
       "Page total likes                                                       False\n",
       "Type                                                                   False\n",
       "Category                                                               False\n",
       "Post Month                                                             False\n",
       "Post Weekday                                                           False\n",
       "Post Hour                                                              False\n",
       "Paid                                                                   False\n",
       "Lifetime Post Total Reach                                              False\n",
       "Lifetime Post Total Impressions                                        False\n",
       "Lifetime Engaged Users                                                 False\n",
       "Lifetime Post Consumers                                                False\n",
       "Lifetime Post Consumptions                                             False\n",
       "Lifetime Post Impressions by people who have liked your Page           False\n",
       "Lifetime Post reach by people who like your Page                       False\n",
       "Lifetime People who have liked your Page and engaged with your post    False\n",
       "comment                                                                False\n",
       "like                                                                   False\n",
       "share                                                                  False\n",
       "Total Interactions                                                     False\n",
       "dtype: bool"
      ]
     },
     "execution_count": 35,
     "metadata": {
      "tags": []
     },
     "output_type": "execute_result"
    }
   ],
   "source": [
    "df.fillna(df.mean(), inplace = True)\n",
    "df.isnull().any()"
   ]
  },
  {
   "cell_type": "markdown",
   "metadata": {
    "colab_type": "text",
    "id": "U_KHL0Y3vYm5"
   },
   "source": [
    "### Encoding"
   ]
  },
  {
   "cell_type": "code",
   "execution_count": 0,
   "metadata": {
    "colab": {
     "base_uri": "https://localhost:8080/",
     "height": 35
    },
    "colab_type": "code",
    "id": "3FJgy5b1vYm5",
    "outputId": "3fef16c8-8fa9-4e1f-cfa5-8c4913faeaa6"
   },
   "outputs": [
    {
     "data": {
      "text/plain": [
       "array([0, 1, 2, 3])"
      ]
     },
     "execution_count": 36,
     "metadata": {
      "tags": []
     },
     "output_type": "execute_result"
    }
   ],
   "source": [
    "from sklearn.preprocessing import LabelEncoder\n",
    "le = LabelEncoder()\n",
    "df['Type'] = le.fit_transform(df['Type'])\n",
    "le.classes_"
   ]
  },
  {
   "cell_type": "markdown",
   "metadata": {
    "colab_type": "text",
    "id": "_UtzY_vBvYm8"
   },
   "source": [
    "### Feature Selection"
   ]
  },
  {
   "cell_type": "code",
   "execution_count": 0,
   "metadata": {
    "colab": {
     "base_uri": "https://localhost:8080/",
     "height": 146
    },
    "colab_type": "code",
    "id": "qORntFJTvYm9",
    "outputId": "9b2860db-b773-4be8-e615-baa5ca6bc13b"
   },
   "outputs": [
    {
     "name": "stderr",
     "output_type": "stream",
     "text": [
      "/usr/local/lib/python3.6/dist-packages/sklearn/ensemble/forest.py:246: FutureWarning: The default value of n_estimators will change from 10 in version 0.20 to 100 in 0.22.\n",
      "  \"10 in version 0.20 to 100 in 0.22.\", FutureWarning)\n"
     ]
    },
    {
     "data": {
      "text/plain": [
       "array([0.0582548 , 0.01455956, 0.02502131, 0.05508076, 0.05526102,\n",
       "       0.06102609, 0.02956491, 0.05655325, 0.05369118, 0.06102565,\n",
       "       0.06364531, 0.06055725, 0.0578222 , 0.05409021, 0.06369994,\n",
       "       0.06702373, 0.08873922, 0.07438359])"
      ]
     },
     "execution_count": 37,
     "metadata": {
      "tags": []
     },
     "output_type": "execute_result"
    }
   ],
   "source": [
    "# import the classifier\n",
    "from sklearn.ensemble import ExtraTreesClassifier\n",
    "\n",
    "# create an instance\n",
    "tree_clf = ExtraTreesClassifier()\n",
    "\n",
    "y = df['Total Interactions'].tolist()\n",
    "\n",
    "# remove target column from the df\n",
    "df_features = df.drop('Total Interactions', axis=1)\n",
    "\n",
    "# store features in X array\n",
    "X = df_features.values\n",
    "\n",
    "# check top 2 values\n",
    "X[:2]\n",
    "\n",
    "tree_clf.fit(X, y)\n",
    "tree_clf.feature_importances_"
   ]
  },
  {
   "cell_type": "code",
   "execution_count": 0,
   "metadata": {
    "colab": {
     "base_uri": "https://localhost:8080/",
     "height": 625
    },
    "colab_type": "code",
    "id": "PwJn1RfRvYm_",
    "outputId": "2e049dd2-56b0-44f4-a169-e07a33848012"
   },
   "outputs": [
    {
     "name": "stdout",
     "output_type": "stream",
     "text": [
      "Feature ranking:\n",
      "feature 16 : like (0.088739)\n",
      "feature 17 : share (0.074384)\n",
      "feature 15 : comment (0.067024)\n",
      "feature 14 : Lifetime People who have liked your Page and engaged with your post (0.063700)\n",
      "feature 10 : Lifetime Post Consumers (0.063645)\n",
      "feature 5 : Post Hour (0.061026)\n",
      "feature 9 : Lifetime Engaged Users (0.061026)\n",
      "feature 11 : Lifetime Post Consumptions (0.060557)\n",
      "feature 0 : Page total likes (0.058255)\n",
      "feature 12 : Lifetime Post Impressions by people who have liked your Page (0.057822)\n",
      "feature 7 : Lifetime Post Total Reach (0.056553)\n",
      "feature 4 : Post Weekday (0.055261)\n",
      "feature 3 : Post Month (0.055081)\n",
      "feature 13 : Lifetime Post reach by people who like your Page (0.054090)\n",
      "feature 8 : Lifetime Post Total Impressions (0.053691)\n",
      "feature 6 : Paid (0.029565)\n",
      "feature 2 : Category (0.025021)\n",
      "feature 1 : Type (0.014560)\n"
     ]
    },
    {
     "data": {
      "image/png": "[encoded data removed]",
      "text/plain": [
       "<Figure size 432x288 with 1 Axes>"
      ]
     },
     "metadata": {
      "tags": []
     },
     "output_type": "display_data"
    }
   ],
   "source": [
    "import operator\n",
    "importances = tree_clf.feature_importances_\n",
    "feature_names = df_features.columns.tolist()\n",
    "\n",
    "feature_imp_dict = dict(zip(feature_names, importances))\n",
    "sorted_features = sorted(feature_imp_dict.items(), key=operator.itemgetter(1), reverse=True)\n",
    "\n",
    "indices = np.argsort(importances)[::-1]\n",
    "\n",
    "# Print the feature ranking\n",
    "print(\"Feature ranking:\")\n",
    "\n",
    "for f in range(X.shape[1]):\n",
    "    print(\"feature %d : %s (%f)\" % (indices[f], sorted_features[f][0], sorted_features[f][1]))\n",
    "\n",
    "# Plot the feature importances of the forest\n",
    "plt.figure(0)\n",
    "plt.title(\"Feature importances\")\n",
    "plt.bar(range(X.shape[1]), importances[indices],\n",
    "       color=\"r\", align=\"center\")\n",
    "plt.xticks(range(X.shape[1]), indices)\n",
    "plt.xlim([-1, X.shape[1]])\n",
    "plt.show()"
   ]
  },
  {
   "cell_type": "code",
   "execution_count": 0,
   "metadata": {
    "colab": {
     "base_uri": "https://localhost:8080/",
     "height": 54
    },
    "colab_type": "code",
    "id": "vwHw2D0mvYnC",
    "outputId": "da096b1b-0c01-47ce-8c01-67c4bd026247"
   },
   "outputs": [
    {
     "name": "stdout",
     "output_type": "stream",
     "text": [
      "Total features count 18\n",
      "Selected features 11\n"
     ]
    }
   ],
   "source": [
    "from sklearn.feature_selection import SelectFromModel\n",
    "\n",
    "model = SelectFromModel(tree_clf, prefit=True)\n",
    "X_updated = model.transform(X)\n",
    "print('Total features count', np.array(X).shape[1])\n",
    "print('Selected features', np.array(X_updated).shape[1])"
   ]
  },
  {
   "cell_type": "markdown",
   "metadata": {
    "colab_type": "text",
    "id": "VGCS_qzXvYnE"
   },
   "source": [
    "### Multiple Linear Regression"
   ]
  },
  {
   "cell_type": "code",
   "execution_count": 0,
   "metadata": {
    "colab": {
     "base_uri": "https://localhost:8080/",
     "height": 35
    },
    "colab_type": "code",
    "id": "Us-W5I9MvYnF",
    "outputId": "de9008b7-3084-4579-cbad-a2e9887741e9"
   },
   "outputs": [
    {
     "data": {
      "text/plain": [
       "(500, 4)"
      ]
     },
     "execution_count": 45,
     "metadata": {
      "tags": []
     },
     "output_type": "execute_result"
    }
   ],
   "source": [
    "important_features = [feature for (feature, score) in sorted_features]\n",
    "\n",
    "# select the top most important feature and store into X array as input\n",
    "# selecting 4 features by [:4]\n",
    "X = df[important_features[:4]].values\n",
    "\n",
    "# set Total Interactions as target\n",
    "y = df['Total Interactions'].tolist()\n",
    "X.shape"
   ]
  },
  {
   "cell_type": "code",
   "execution_count": 0,
   "metadata": {
    "colab": {},
    "colab_type": "code",
    "id": "oltW1kCfvYnI"
   },
   "outputs": [],
   "source": [
    "# splitting data\n",
    "# set the test_size for splitting the total data\n",
    "from sklearn.model_selection import train_test_split\n",
    "X_train, X_test, y_train, y_test = train_test_split(X, y, test_size=0.30, random_state=0)\n",
    "\n",
    "# create the model\n",
    "from sklearn.linear_model import LinearRegression\n",
    "multi_lr_model = LinearRegression()\n",
    "\n",
    "# fit the model with X and y\n",
    "\n",
    "multi_lr_model.fit(X_train, y_train)\n",
    "\n",
    "X_test = np.array(X_test)\n",
    "\n",
    "# get predictions\n",
    "y_pred = multi_lr_model.predict(X_test)"
   ]
  },
  {
   "cell_type": "code",
   "execution_count": 0,
   "metadata": {
    "colab": {
     "base_uri": "https://localhost:8080/",
     "height": 145
    },
    "colab_type": "code",
    "id": "sa-7YsaXvYnM",
    "outputId": "a615dc83-3883-4e32-faab-5850e6b5b98e"
   },
   "outputs": [
    {
     "data": {
      "text/plain": [
       "(2.392149293765294,\n",
       " 0.9998995222098154,\n",
       " 0.9998987102680765,\n",
       " LinearRegression(copy_X=True, fit_intercept=True, n_jobs=None,\n",
       "          normalize=False),\n",
       " array([0.99933   , 0.97931919, 1.04051365, 0.00126881]),\n",
       " -1.1760604444385763)"
      ]
     },
     "execution_count": 42,
     "metadata": {
      "tags": []
     },
     "output_type": "execute_result"
    }
   ],
   "source": [
    "from sklearn.metrics import mean_squared_error\n",
    "from math import sqrt\n",
    "\n",
    "rmse = sqrt(mean_squared_error(y_test, y_pred))\n",
    "\n",
    "# http://scikit-learn.org/stable/modules/generated/sklearn.metrics.r2_score.html\n",
    "    \n",
    "from sklearn.metrics import r2_score\n",
    "r2 = r2_score(y_test, y_pred)\n",
    "\n",
    "adj_r2 = 1 - float(len(y)-1)/(len(y)-len(multi_lr_model.coef_)-1)*(1 - r2)\n",
    "\n",
    "rmse, r2, adj_r2, multi_lr_model, multi_lr_model.coef_, multi_lr_model.intercept_"
   ]
  },
  {
   "cell_type": "code",
   "execution_count": 0,
   "metadata": {
    "colab": {
     "base_uri": "https://localhost:8080/",
     "height": 363
    },
    "colab_type": "code",
    "id": "ouokDoE6zcsd",
    "outputId": "2a51e1b0-ce42-46c2-840d-1a15daeab84c"
   },
   "outputs": [
    {
     "data": {
      "text/plain": [
       "['like',\n",
       " 'share',\n",
       " 'comment',\n",
       " 'Lifetime People who have liked your Page and engaged with your post',\n",
       " 'Lifetime Post Consumers',\n",
       " 'Post Hour',\n",
       " 'Lifetime Engaged Users',\n",
       " 'Lifetime Post Consumptions',\n",
       " 'Page total likes',\n",
       " 'Lifetime Post Impressions by people who have liked your Page',\n",
       " 'Lifetime Post Total Reach',\n",
       " 'Post Weekday',\n",
       " 'Post Month',\n",
       " 'Lifetime Post reach by people who like your Page',\n",
       " 'Lifetime Post Total Impressions',\n",
       " 'Paid',\n",
       " 'Category',\n",
       " 'Type',\n",
       " 'Total Interactions']"
      ]
     },
     "execution_count": 51,
     "metadata": {
      "tags": []
     },
     "output_type": "execute_result"
    }
   ],
   "source": [
    "important_features.append('Total Interactions')\n",
    "important_features\n",
    "\n",
    "VIFDataSet = df[important_features]\n"
   ]
  },
  {
   "cell_type": "code",
   "execution_count": 0,
   "metadata": {
    "colab": {
     "base_uri": "https://localhost:8080/",
     "height": 158
    },
    "colab_type": "code",
    "id": "IJQA1sTA61aD",
    "outputId": "efd3e0e5-9db1-4e6d-e5ba-4c3b674cb16d"
   },
   "outputs": [
    {
     "data": {
      "text/html": [
       "<div>\n",
       "<style scoped>\n",
       "    .dataframe tbody tr th:only-of-type {\n",
       "        vertical-align: middle;\n",
       "    }\n",
       "\n",
       "    .dataframe tbody tr th {\n",
       "        vertical-align: top;\n",
       "    }\n",
       "\n",
       "    .dataframe thead th {\n",
       "        text-align: right;\n",
       "    }\n",
       "</style>\n",
       "<table border=\"1\" class=\"dataframe\">\n",
       "  <thead>\n",
       "    <tr style=\"text-align: right;\">\n",
       "      <th></th>\n",
       "      <th>like</th>\n",
       "      <th>share</th>\n",
       "      <th>comment</th>\n",
       "      <th>Lifetime_People_who_have_liked_your_Page_and_engaged_with_your_post</th>\n",
       "      <th>Lifetime_Post_Consumers</th>\n",
       "      <th>Post_Hour</th>\n",
       "      <th>Lifetime_Engaged_Users</th>\n",
       "      <th>Lifetime_Post_Consumptions</th>\n",
       "      <th>Page_total_likes</th>\n",
       "      <th>Lifetime_Post_Impressions_by_people_who_have_liked_your_Page</th>\n",
       "      <th>Lifetime_Post_Total_Reach</th>\n",
       "      <th>Post_Weekday</th>\n",
       "      <th>Post_Month</th>\n",
       "      <th>Lifetime_Post_reach_by_people_who_like_your_Page</th>\n",
       "      <th>Lifetime_Post_Total_Impressions</th>\n",
       "      <th>Paid</th>\n",
       "      <th>Category</th>\n",
       "      <th>Type</th>\n",
       "      <th>Total_Interactions</th>\n",
       "    </tr>\n",
       "  </thead>\n",
       "  <tbody>\n",
       "    <tr>\n",
       "      <th>0</th>\n",
       "      <td>79.0</td>\n",
       "      <td>17.0</td>\n",
       "      <td>4</td>\n",
       "      <td>119</td>\n",
       "      <td>109</td>\n",
       "      <td>3</td>\n",
       "      <td>178</td>\n",
       "      <td>159</td>\n",
       "      <td>139441</td>\n",
       "      <td>3078</td>\n",
       "      <td>2752</td>\n",
       "      <td>4</td>\n",
       "      <td>12</td>\n",
       "      <td>1640</td>\n",
       "      <td>5091</td>\n",
       "      <td>0.0</td>\n",
       "      <td>2</td>\n",
       "      <td>1</td>\n",
       "      <td>100</td>\n",
       "    </tr>\n",
       "    <tr>\n",
       "      <th>1</th>\n",
       "      <td>130.0</td>\n",
       "      <td>29.0</td>\n",
       "      <td>5</td>\n",
       "      <td>1108</td>\n",
       "      <td>1361</td>\n",
       "      <td>10</td>\n",
       "      <td>1457</td>\n",
       "      <td>1674</td>\n",
       "      <td>139441</td>\n",
       "      <td>11710</td>\n",
       "      <td>10460</td>\n",
       "      <td>3</td>\n",
       "      <td>12</td>\n",
       "      <td>6112</td>\n",
       "      <td>19057</td>\n",
       "      <td>0.0</td>\n",
       "      <td>2</td>\n",
       "      <td>2</td>\n",
       "      <td>164</td>\n",
       "    </tr>\n",
       "    <tr>\n",
       "      <th>2</th>\n",
       "      <td>66.0</td>\n",
       "      <td>14.0</td>\n",
       "      <td>0</td>\n",
       "      <td>132</td>\n",
       "      <td>113</td>\n",
       "      <td>3</td>\n",
       "      <td>177</td>\n",
       "      <td>154</td>\n",
       "      <td>139441</td>\n",
       "      <td>2812</td>\n",
       "      <td>2413</td>\n",
       "      <td>3</td>\n",
       "      <td>12</td>\n",
       "      <td>1503</td>\n",
       "      <td>4373</td>\n",
       "      <td>0.0</td>\n",
       "      <td>3</td>\n",
       "      <td>1</td>\n",
       "      <td>80</td>\n",
       "    </tr>\n",
       "  </tbody>\n",
       "</table>\n",
       "</div>"
      ],
      "text/plain": [
       "    like  share  comment  \\\n",
       "0   79.0   17.0        4   \n",
       "1  130.0   29.0        5   \n",
       "2   66.0   14.0        0   \n",
       "\n",
       "   Lifetime_People_who_have_liked_your_Page_and_engaged_with_your_post  \\\n",
       "0                                                119                     \n",
       "1                                               1108                     \n",
       "2                                                132                     \n",
       "\n",
       "   Lifetime_Post_Consumers  Post_Hour  Lifetime_Engaged_Users  \\\n",
       "0                      109          3                     178   \n",
       "1                     1361         10                    1457   \n",
       "2                      113          3                     177   \n",
       "\n",
       "   Lifetime_Post_Consumptions  Page_total_likes  \\\n",
       "0                         159            139441   \n",
       "1                        1674            139441   \n",
       "2                         154            139441   \n",
       "\n",
       "   Lifetime_Post_Impressions_by_people_who_have_liked_your_Page  \\\n",
       "0                                               3078              \n",
       "1                                              11710              \n",
       "2                                               2812              \n",
       "\n",
       "   Lifetime_Post_Total_Reach  Post_Weekday  Post_Month  \\\n",
       "0                       2752             4          12   \n",
       "1                      10460             3          12   \n",
       "2                       2413             3          12   \n",
       "\n",
       "   Lifetime_Post_reach_by_people_who_like_your_Page  \\\n",
       "0                                              1640   \n",
       "1                                              6112   \n",
       "2                                              1503   \n",
       "\n",
       "   Lifetime_Post_Total_Impressions  Paid  Category  Type  Total_Interactions  \n",
       "0                             5091   0.0         2     1                 100  \n",
       "1                            19057   0.0         2     2                 164  \n",
       "2                             4373   0.0         3     1                  80  "
      ]
     },
     "execution_count": 63,
     "metadata": {
      "tags": []
     },
     "output_type": "execute_result"
    }
   ],
   "source": [
    "VIFDataSet.columns = [c.replace(' ', '_') for c in VIFDataSet.columns]\n",
    "VIFDataSet.head(3)"
   ]
  },
  {
   "cell_type": "code",
   "execution_count": 0,
   "metadata": {
    "colab": {},
    "colab_type": "code",
    "id": "r4uNc__C3fux"
   },
   "outputs": [],
   "source": [
    "from patsy import dmatrices\n",
    "from statsmodels.stats.outliers_influence import variance_inflation_factor\n",
    "\n",
    "y, X = dmatrices('Total_Interactions  ~ like\t+ share\t+ comment + \tLifetime_People_who_have_liked_your_Page_and_engaged_with_your_post + \tLifetime_Post_Consumers\t+ Post_Hour + \tLifetime_Engaged_Users\t+ Lifetime_Post_Consumptions + \tPage_total_likes\t+ Lifetime_Post_Impressions_by_people_who_have_liked_your_Page\t+ Lifetime_Post_Total_Reach\t+ Post_Weekday\t+ Post_Month\t+ Lifetime_Post_reach_by_people_who_like_your_Page\t+  Lifetime_Post_Total_Impressions\t+ Paid + \tCategory\t+ Type\t',data= VIFDataSet, return_type='dataframe')"
   ]
  },
  {
   "cell_type": "markdown",
   "metadata": {
    "colab_type": "text",
    "id": "OovKuJekvYnU"
   },
   "source": [
    "Multi-Collinearity detection in Python"
   ]
  },
  {
   "cell_type": "code",
   "execution_count": 0,
   "metadata": {
    "colab": {
     "base_uri": "https://localhost:8080/",
     "height": 381
    },
    "colab_type": "code",
    "id": "YZcNbqo4zYuq",
    "outputId": "0cb04911-6874-4c43-909c-db49d1847949"
   },
   "outputs": [
    {
     "name": "stdout",
     "output_type": "stream",
     "text": [
      "           vif                                           features\n",
      "0   316.427293                                          Intercept\n",
      "1    98.761478                                               like\n",
      "2     9.700727                                              share\n",
      "3     5.003829                                            comment\n",
      "4     7.318752  Lifetime_People_who_have_liked_your_Page_and_e...\n",
      "5   781.430993                            Lifetime_Post_Consumers\n",
      "6     1.105835                                          Post_Hour\n",
      "7   977.656334                             Lifetime_Engaged_Users\n",
      "8     2.255248                         Lifetime_Post_Consumptions\n",
      "9     9.660019                                   Page_total_likes\n",
      "10   21.460406  Lifetime_Post_Impressions_by_people_who_have_l...\n",
      "11   20.108420                          Lifetime_Post_Total_Reach\n",
      "12    1.038885                                       Post_Weekday\n",
      "13    9.810276                                         Post_Month\n",
      "14   10.343513   Lifetime_Post_reach_by_people_who_like_your_Page\n",
      "15   29.067149                    Lifetime_Post_Total_Impressions\n",
      "16    1.050808                                               Paid\n",
      "17    1.320796                                           Category\n",
      "18    1.601588                                               Type\n"
     ]
    }
   ],
   "source": [
    "vif_df = pd.DataFrame()\n",
    "vif_df[\"vif\"] = [variance_inflation_factor(X.values, i) for i in range(X.shape[1])]\n",
    "vif_df[\"features\"] = X.columns\n",
    "print(vif_df)"
   ]
  },
  {
   "cell_type": "code",
   "execution_count": 0,
   "metadata": {
    "colab": {
     "base_uri": "https://localhost:8080/",
     "height": 258
    },
    "colab_type": "code",
    "id": "dAqgjZjR-W89",
    "outputId": "7fd29105-ef78-4c74-88eb-96a1081cabc4"
   },
   "outputs": [
    {
     "data": {
      "text/html": [
       "<div>\n",
       "<style scoped>\n",
       "    .dataframe tbody tr th:only-of-type {\n",
       "        vertical-align: middle;\n",
       "    }\n",
       "\n",
       "    .dataframe tbody tr th {\n",
       "        vertical-align: top;\n",
       "    }\n",
       "\n",
       "    .dataframe thead th {\n",
       "        text-align: right;\n",
       "    }\n",
       "</style>\n",
       "<table border=\"1\" class=\"dataframe\">\n",
       "  <thead>\n",
       "    <tr style=\"text-align: right;\">\n",
       "      <th></th>\n",
       "      <th>vif</th>\n",
       "      <th>features</th>\n",
       "    </tr>\n",
       "  </thead>\n",
       "  <tbody>\n",
       "    <tr>\n",
       "      <th>0</th>\n",
       "      <td>316.427293</td>\n",
       "      <td>Intercept</td>\n",
       "    </tr>\n",
       "    <tr>\n",
       "      <th>6</th>\n",
       "      <td>1.105835</td>\n",
       "      <td>Post_Hour</td>\n",
       "    </tr>\n",
       "    <tr>\n",
       "      <th>8</th>\n",
       "      <td>2.255248</td>\n",
       "      <td>Lifetime_Post_Consumptions</td>\n",
       "    </tr>\n",
       "    <tr>\n",
       "      <th>12</th>\n",
       "      <td>1.038885</td>\n",
       "      <td>Post_Weekday</td>\n",
       "    </tr>\n",
       "    <tr>\n",
       "      <th>16</th>\n",
       "      <td>1.050808</td>\n",
       "      <td>Paid</td>\n",
       "    </tr>\n",
       "    <tr>\n",
       "      <th>17</th>\n",
       "      <td>1.320796</td>\n",
       "      <td>Category</td>\n",
       "    </tr>\n",
       "    <tr>\n",
       "      <th>18</th>\n",
       "      <td>1.601588</td>\n",
       "      <td>Type</td>\n",
       "    </tr>\n",
       "  </tbody>\n",
       "</table>\n",
       "</div>"
      ],
      "text/plain": [
       "           vif                    features\n",
       "0   316.427293                   Intercept\n",
       "6     1.105835                   Post_Hour\n",
       "8     2.255248  Lifetime_Post_Consumptions\n",
       "12    1.038885                Post_Weekday\n",
       "16    1.050808                        Paid\n",
       "17    1.320796                    Category\n",
       "18    1.601588                        Type"
      ]
     },
     "execution_count": 80,
     "metadata": {
      "tags": []
     },
     "output_type": "execute_result"
    }
   ],
   "source": [
    "# Remove all the variables with VIF value >5\n",
    "\n",
    "vif_df[(vif_df.features =='Intercept') | ( vif_df.vif <=5)]"
   ]
  }
 ],
 "metadata": {
  "colab": {
   "collapsed_sections": [],
   "name": "Linear Regression Classroom Discussion Code file.ipynb",
   "provenance": [],
   "toc_visible": true
  },
  "kernelspec": {
   "display_name": "Python 3 (ipykernel)",
   "language": "python",
   "name": "python3"
  },
  "language_info": {
   "codemirror_mode": {
    "name": "ipython",
    "version": 3
   },
   "file_extension": ".py",
   "mimetype": "text/x-python",
   "name": "python",
   "nbconvert_exporter": "python",
   "pygments_lexer": "ipython3",
   "version": "3.9.7"
  }
 },
 "nbformat": 4,
 "nbformat_minor": 1
}
